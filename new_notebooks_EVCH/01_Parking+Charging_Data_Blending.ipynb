{
 "cells": [
  {
   "cell_type": "markdown",
   "metadata": {},
   "source": [
    "# Blending of Parking and Charging Data\n",
    "\n",
    "Here we blend the APCOA Parking Data and ACN Charging Data using collaborative filtering. The rationale is as follows:\n",
    "\n",
    "- ACN data caputres only charging events, not total EVCC occupancy. Hence it is not suitable for sizing applications. Yet, it is currently the most comprehensive publicly available dataset that captures charging demand at semi-publice workplace facilities.\n",
    "- For sizing we need full parking cluster occupation along with estimated charging demand per parker. Therefore, we blend both datasets using collaborative filtering techniques."
   ]
  },
  {
   "cell_type": "code",
   "execution_count": 29,
   "metadata": {},
   "outputs": [],
   "source": [
    "import numpy as np\n",
    "import pandas as pd\n",
    "import seaborn as sns\n",
    "from datetime import datetime\n",
    "from matplotlib import pyplot as plt\n",
    "from pandas.plotting import register_matplotlib_converters\n",
    "register_matplotlib_converters()\n",
    "\n",
    "# ML/Clustering stuff\n",
    "#from sklearn.preprocessing import StandardScaler\n",
    "#from sklearn.cluster import KMeans\n",
    "\n",
    "import warnings\n",
    "warnings.filterwarnings(action=\"ignore\")"
   ]
  },
  {
   "cell_type": "code",
   "execution_count": 30,
   "metadata": {},
   "outputs": [],
   "source": [
    "# CONFIG\n",
    "\n",
    "DATA_PATH = \"/Volumes/karsten.schroer@uni-koeln.de/Uni/Research/04_CASE_Clustered_EV_Charging/\"\n",
    "OUT_PATH = \"\""
   ]
  },
  {
   "cell_type": "code",
   "execution_count": 31,
   "metadata": {},
   "outputs": [],
   "source": [
    "parking_sessions = pd.read_csv(DATA_PATH+\"Parking_Data/Parking_Data_Combined_CLEAN.csv\")\n",
    "charging_sessions = pd.read_csv(DATA_PATH+\"ACN_Caltech_Charging_Data/acndata_sessions_COMBINED_API.csv\")\n",
    "charging_sessions.dropna(inplace=True)"
   ]
  },
  {
   "cell_type": "markdown",
   "metadata": {},
   "source": [
    "### Blending via Collaborative Filtering\n",
    "\n",
    "We basically match expected charging demand to parking transaction using an algo we have fitted on charging sessions data. As is typical for collaborative filtering, there is no real test set here. Instead, the best we can do is select some of the hyperparameter based on a train-test split of the charging session data."
   ]
  },
  {
   "cell_type": "markdown",
   "metadata": {},
   "source": [
    "We use a memory-based approach which makes a prediction for the new observations in the parking dataset based on their similarity with the \"labeled\" data in the ACN charging dataset. See here: https://en.wikipedia.org/wiki/Collaborative_filtering#Memory-based. Also see here: https://towardsdatascience.com/various-implementations-of-collaborative-filtering-100385c6dfe0"
   ]
  },
  {
   "cell_type": "markdown",
   "metadata": {},
   "source": [
    "#### KNN Approach"
   ]
  },
  {
   "cell_type": "code",
   "execution_count": 32,
   "metadata": {},
   "outputs": [],
   "source": [
    "from sklearn.neighbors import KNeighborsRegressor\n",
    "from sklearn.model_selection import train_test_split\n",
    "from sklearn.metrics import mean_squared_error, mean_absolute_error, r2_score"
   ]
  },
  {
   "cell_type": "code",
   "execution_count": 33,
   "metadata": {},
   "outputs": [],
   "source": [
    "#cluster_feat = [\"EntryMin_sin\",\"EntryMin_cos\",\"MinutesStay\"]\n",
    "knn_feat = [\"EntryMin_sin\",\"EntryMin_cos\",\"MinutesStay\"]\n",
    "outputs = ['userInputs_WhPerMile', 'userInputs_kWhRequested','userInputs_milesRequested']"
   ]
  },
  {
   "cell_type": "markdown",
   "metadata": {},
   "source": [
    "TODO: Which number of neighbors k is a good value?"
   ]
  },
  {
   "cell_type": "code",
   "execution_count": 34,
   "metadata": {},
   "outputs": [],
   "source": [
    "# YOUR CODE HERE:\n",
    "\n",
    "def find_knn (x,y,max_k):\n",
    "    \n",
    "    err_train = [] \n",
    "    err_test = []\n",
    "    \n",
    "    x_train, x_test, y_train, y_test = train_test_split(x, y, test_size=0.3,random_state=10)\n",
    "\n",
    "    for n in np.arange(1,max_k):\n",
    "\n",
    "        # fit model\n",
    "        KNN_reg = KNeighborsRegressor(n_neighbors=n)\n",
    "        KNN_model = KNN_reg.fit(x_train, y_train)\n",
    "\n",
    "\n",
    "        # compute errors\n",
    "        err_train.append(mean_absolute_error(KNN_model.predict(x_train), y_train))\n",
    "        err_test.append(mean_absolute_error(KNN_model.predict(x_test), y_test))\n",
    "        \n",
    "    plt.figure(figsize = (8,6))\n",
    "    plt.plot(np.arange(1,max_k), err_train,np.arange(1,max_k), err_test)\n",
    "    plt.legend([\"Training\", \"Validation\"])\n",
    "    plt.xlabel(\"Number of neighbors\")\n",
    "    plt.ylabel(\"MAE\")\n",
    "    #plt.ylim((0,1))\n",
    "    plt.show()\n",
    "\n"
   ]
  },
  {
   "cell_type": "code",
   "execution_count": 35,
   "metadata": {},
   "outputs": [
    {
     "data": {
      "image/png": "[encoded data removed]",
      "text/plain": [
       "<Figure size 576x432 with 1 Axes>"
      ]
     },
     "metadata": {
      "needs_background": "light"
     },
     "output_type": "display_data"
    }
   ],
   "source": [
    "x=charging_sessions[knn_feat]\n",
    "y=charging_sessions['userInputs_kWhRequested']\n",
    "find_knn (x,y,max_k=20)"
   ]
  },
  {
   "cell_type": "markdown",
   "metadata": {},
   "source": [
    "We select k=12 from this analysis"
   ]
  },
  {
   "cell_type": "markdown",
   "metadata": {},
   "source": [
    "__KNN Blending__"
   ]
  },
  {
   "cell_type": "code",
   "execution_count": 36,
   "metadata": {},
   "outputs": [
    {
     "data": {
      "text/plain": [
       "KNeighborsRegressor(algorithm='auto', leaf_size=30, metric='minkowski',\n",
       "                    metric_params=None, n_jobs=None, n_neighbors=12, p=2,\n",
       "                    weights='uniform')"
      ]
     },
     "execution_count": 36,
     "metadata": {},
     "output_type": "execute_result"
    }
   ],
   "source": [
    "metric = \"minkowski\" # the distance metric to compute nearest neigbors!\n",
    " \n",
    "charging_knn = KNeighborsRegressor(n_neighbors=12, metric=metric)\n",
    "charging_knn.fit(charging_sessions[knn_feat], charging_sessions[outputs])"
   ]
  },
  {
   "cell_type": "code",
   "execution_count": 37,
   "metadata": {},
   "outputs": [],
   "source": [
    "parking_sessions[outputs] = charging_knn.predict(parking_sessions[knn_feat])"
   ]
  },
  {
   "cell_type": "markdown",
   "metadata": {},
   "source": [
    "__Feasibility Checks__\n",
    "\n",
    "Ensure that requested charge is feasible using 22kW Charging Stations"
   ]
  },
  {
   "cell_type": "code",
   "execution_count": 38,
   "metadata": {},
   "outputs": [],
   "source": [
    "parking_sessions[\"MaxFeasible_kwhRequested\"] = 22*(parking_sessions[\"HoursStay\"])\n",
    "parking_sessions[\"final_kWhRequested\"] = parking_sessions.apply(lambda x: x.userInputs_kWhRequested if x.userInputs_kWhRequested<x.MaxFeasible_kwhRequested else x.MaxFeasible_kwhRequested,axis=1)"
   ]
  },
  {
   "cell_type": "code",
   "execution_count": 39,
   "metadata": {},
   "outputs": [
    {
     "data": {
      "text/plain": [
       "Index(['Unnamed: 0', 'EntryDateTime', 'ExitDateTime', 'HoursStay',\n",
       "       'MinutesStay', 'RevenueAmount', 'SiteID', 'Year', 'EntryMFM', 'ExitMFM',\n",
       "       'EntryDate', 'ExitDate', 'EntryHour', 'ExitHour', 'EntryHour_sin',\n",
       "       'EntryHour_cos', 'EntryMin_sin', 'EntryMin_cos', 'ExitHour_sin',\n",
       "       'ExitHour_cos', 'ExitMin_sin', 'ExitMin_cos', 'EntryDayOfWeek',\n",
       "       'EntryWeekday_yn', 'EntryHoliday_yn', 'userInputs_WhPerMile',\n",
       "       'userInputs_kWhRequested', 'userInputs_milesRequested',\n",
       "       'MaxFeasible_kwhRequested', 'final_kWhRequested'],\n",
       "      dtype='object')"
      ]
     },
     "execution_count": 39,
     "metadata": {},
     "output_type": "execute_result"
    }
   ],
   "source": [
    "parking_sessions.columns"
   ]
  },
  {
   "cell_type": "markdown",
   "metadata": {},
   "source": [
    "__Remove Energy Demand for Grace Period and Extreme Short Stays__\n",
    "\n",
    "Vehicles that stay for only short periods are not expected to make a charging request"
   ]
  },
  {
   "cell_type": "code",
   "execution_count": 40,
   "metadata": {},
   "outputs": [],
   "source": [
    "limit=15\n",
    "parking_sessions[\"final_kWhRequested\"] = parking_sessions.apply(lambda x: x.final_kWhRequested if x.MinutesStay>limit else 0,axis=1)"
   ]
  },
  {
   "cell_type": "code",
   "execution_count": 43,
   "metadata": {},
   "outputs": [
    {
     "data": {
      "text/plain": [
       "0.08023326525296468"
      ]
     },
     "execution_count": 43,
     "metadata": {},
     "output_type": "execute_result"
    }
   ],
   "source": [
    "len(parking_sessions[parking_sessions[\"MinutesStay\"]<limit])/len(parking_sessions)"
   ]
  },
  {
   "cell_type": "markdown",
   "metadata": {},
   "source": [
    "__Save Data__"
   ]
  },
  {
   "cell_type": "code",
   "execution_count": 44,
   "metadata": {},
   "outputs": [],
   "source": [
    "parking_sessions.to_csv(DATA_PATH+\"EV_Energy_Demand_Data/Parking+Charging_Data_BLENDED.csv\")"
   ]
  },
  {
   "cell_type": "markdown",
   "metadata": {},
   "source": [
    "---"
   ]
  }
 ],
 "metadata": {
  "kernelspec": {
   "display_name": "Python 3",
   "language": "python",
   "name": "python3"
  },
  "language_info": {
   "codemirror_mode": {
    "name": "ipython",
    "version": 3
   },
   "file_extension": ".py",
   "mimetype": "text/x-python",
   "name": "python",
   "nbconvert_exporter": "python",
   "pygments_lexer": "ipython3",
   "version": "3.7.1"
  }
 },
 "nbformat": 4,
 "nbformat_minor": 4
}
