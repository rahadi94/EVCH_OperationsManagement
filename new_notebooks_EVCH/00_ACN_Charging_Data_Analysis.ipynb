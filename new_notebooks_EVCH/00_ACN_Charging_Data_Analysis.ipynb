{
 "cells": [
  {
   "cell_type": "markdown",
   "metadata": {},
   "source": [
    "# ACN-Dataset on workplace charging\n",
    "\n",
    "This dataset is available from here: https://ev.caltech.edu/dataset"
   ]
  },
  {
   "cell_type": "code",
   "execution_count": 3,
   "metadata": {},
   "outputs": [],
   "source": [
    "import numpy as np\n",
    "import pandas as pd\n",
    "import math\n",
    "import seaborn as sns\n",
    "from datetime import datetime\n",
    "from matplotlib import pyplot as plt\n",
    "from pandas.plotting import register_matplotlib_converters\n",
    "register_matplotlib_converters()\n",
    "import holidays\n",
    "\n",
    "import warnings\n",
    "warnings.filterwarnings(action=\"ignore\")\n",
    "\n",
    "import json"
   ]
  },
  {
   "cell_type": "code",
   "execution_count": 4,
   "metadata": {},
   "outputs": [],
   "source": [
    "DATA_PATH = \"/Volumes/karsten.schroer@uni-koeln.de/Uni/Research/04_CASE_Clustered_EV_Charging/\"\n",
    "OUT_PATH = \"\"\n",
    "facilities = [\"Caltech\",\"JPL\",\"office1\"]"
   ]
  },
  {
   "cell_type": "markdown",
   "metadata": {},
   "source": [
    "The data contains three core facilities:\n",
    "- __Caltech__: A research university located in Pasadena, CA. We currently collect data from 54 EVSEs in one campus garage. The site is open to the public but most usage is from faculty, staff and students.\n",
    "- __JPL__: A national research lab located in La Canada, CA. This site currently has 50 EVSEs and is only open to employees. It is indicative of a normal workplace schedule.\n",
    "- __office1__: An office building located in the Silicon Valley area. It currently has 8 EVSEs and is used only by employees."
   ]
  },
  {
   "cell_type": "markdown",
   "metadata": {},
   "source": [
    "# Access via API\n",
    "\n",
    "This is the better way as it respects the time zone."
   ]
  },
  {
   "cell_type": "code",
   "execution_count": 13,
   "metadata": {},
   "outputs": [],
   "source": [
    "import requests as req\n",
    "import json\n",
    "import pandas as pd\n",
    "import numpy as np\n",
    "import geopandas as gpd\n",
    "import pytz\n",
    "\n",
    "def http_date(dt):\n",
    "    \"\"\" Convert datetime object into http date according to RFC 1123.\n",
    "    :param datetime dt: datetime object to convert\n",
    "    :return: dt as a string according to RFC 1123 format\n",
    "    :rtype: str\n",
    "    \"\"\"\n",
    "    return dt.astimezone(pytz.utc).strftime(\"%a, %d %b %Y %H:%M:%S GMT\")\n",
    "\n",
    "def add_user_input_cols (df):\n",
    "    \n",
    "    \"Extracts user inputs and adds as columns\"\n",
    "    \n",
    "    user_input_keys = ['WhPerMile', 'kWhRequested', 'milesRequested', 'minutesAvailable', \n",
    "                       'modifiedAt', 'paymentRequired', 'requestedDeparture', 'userID']\n",
    "    \n",
    "    for key in user_input_keys: #userInputs\n",
    "        \n",
    "        df[\"userInputs_\"+key] = df[\"userInputs\"].apply(lambda x: x[0][key] if type(x)==list else np.NaN)\n",
    "        \n",
    "    df.drop(\"userInputs\",axis=1,inplace=True)\n",
    "    \n",
    "    return df"
   ]
  },
  {
   "cell_type": "code",
   "execution_count": 8,
   "metadata": {},
   "outputs": [],
   "source": [
    "# Timezone of the ACN we are using.\n",
    "timezone = pytz.timezone('America/Los_Angeles')\n",
    "\n",
    "# Start and End times are used when collecting data.\n",
    "start = timezone.localize(datetime(2019, 1, 1))\n",
    "end = timezone.localize(datetime(2020, 1, 1))\n",
    "\n",
    "# Identifier of the site where data will be gathered.\n",
    "site = 'caltech'"
   ]
  },
  {
   "cell_type": "code",
   "execution_count": 9,
   "metadata": {},
   "outputs": [],
   "source": [
    "api_token=\"69Na6QtGwXyxCO9inT_jZlVnK__pSN7Xxnw2aIg8Zls\"\n",
    "url = \"https://ev.caltech.edu/api/v1/\""
   ]
  },
  {
   "cell_type": "code",
   "execution_count": 10,
   "metadata": {},
   "outputs": [
    {
     "name": "stdout",
     "output_type": "stream",
     "text": [
      "connectionTime >= \"Tue, 01 Jan 2019 08:00:00 GMT\" and connectionTime <= \"Wed, 01 Jan 2020 08:00:00 GMT\"\n"
     ]
    }
   ],
   "source": [
    "cond = []\n",
    "cond.append('connectionTime >= \"{0}\"'.format(http_date(start)))\n",
    "cond.append('connectionTime <= \"{0}\"'.format(http_date(end)))\n",
    "\n",
    "#if min_energy is not None:\n",
    "#    cond.append(\"kWhDelivered > {0}\".format(min_energy))\n",
    "\n",
    "condition = \" and \".join(cond)\n",
    "print(condition)"
   ]
  },
  {
   "cell_type": "code",
   "execution_count": 14,
   "metadata": {},
   "outputs": [],
   "source": [
    "def get_sessions(api_token,url,site, cond=None, project=None, sort=\"connectionTime\", timeseries=False):\n",
    "        \n",
    "        \"\"\" Returns sessions from the acndata dataset.\n",
    "        Args:\n",
    "            site (str): ACN ID from which data should be gathered.\n",
    "            cond (str): String of conditions. See API reference for the where parameter.\n",
    "        Yields:\n",
    "            Dict: Session as a dictionary.\n",
    "        Raises:\n",
    "            ValueError: Raised if the site name is not valid.\n",
    "        \"\"\"\n",
    "        \n",
    "        if site not in {\"caltech\", \"jpl\", \"office001\"}:\n",
    "            raise ValueError(\n",
    "                \"Invalid site name. Must be either 'caltech', 'jpl', or 'office001'.\")\n",
    "\n",
    "        limit = 1000000\n",
    "        endpoint = \"sessions/\" + site\n",
    "        if timeseries:\n",
    "            endpoint += \"/ts/\"\n",
    "            limit = 1000000\n",
    "        args = []\n",
    "        if cond is not None:\n",
    "            args.append(\"where={0}\".format(cond))\n",
    "        if project is not None:\n",
    "            args.append(\"project={0}\".format(project))\n",
    "        if sort is not None:\n",
    "            args.append(\"sort={0}\".format(sort))\n",
    "        args.append(\"max_results={0}\".format(limit))\n",
    "        query_string = \"?\" + \"&\".join(args) if len(args) > 0 else \"\"\n",
    "        \n",
    "        print(query_string)\n",
    "        \n",
    "        call = req.get(url + endpoint + query_string, auth=(api_token, \"\"))\n",
    "        call_json = call.json()\n",
    "        \n",
    "        data = pd.DataFrame()\n",
    "        \n",
    "        # flick through all pages in output\n",
    "        while True:\n",
    "            #for s in call_json[\"_items\"]:\n",
    "            #    parse_dates(s)\n",
    "            if \"next\" in call_json[\"_links\"]:\n",
    "                call = req.get(url + call_json[\"_links\"][\"next\"][\"href\"], auth=(api_token, \"\"))\n",
    "                #print(url + call_json[\"_links\"][\"next\"][\"href\"])\n",
    "                call_json = call.json()\n",
    "                call_df = pd.DataFrame(call_json[\"_items\"])\n",
    "                \n",
    "                data = data.append(call_df)\n",
    "                \n",
    "            else:\n",
    "                break\n",
    "        \n",
    "        data[\"siteName\"] = site\n",
    "        data = add_user_input_cols(data)\n",
    "\n",
    "        # some formatting\n",
    "        local_tz=pytz.timezone('America/Los_Angeles')\n",
    "        \n",
    "        for t_col in ['connectionTime', 'disconnectTime','doneChargingTime','userInputs_modifiedAt','userInputs_requestedDeparture']:\n",
    "            data[t_col]= pd.to_datetime(data[t_col])\n",
    "            data[t_col]= data[t_col].apply(lambda x: x.tz_convert(local_tz))\n",
    "            \n",
    "            # get naive non-tz aware local time \n",
    "            data[t_col]= data[t_col].apply(lambda x: x.replace(tzinfo=None)) # remove tz_info to only keep local time\n",
    "\n",
    "        return data"
   ]
  },
  {
   "cell_type": "code",
   "execution_count": 15,
   "metadata": {},
   "outputs": [
    {
     "name": "stdout",
     "output_type": "stream",
     "text": [
      "?where=connectionTime >= \"Tue, 01 Jan 2019 08:00:00 GMT\" and connectionTime <= \"Wed, 01 Jan 2020 08:00:00 GMT\"&max_results=1000000\n",
      "?where=connectionTime >= \"Tue, 01 Jan 2019 08:00:00 GMT\" and connectionTime <= \"Wed, 01 Jan 2020 08:00:00 GMT\"&max_results=1000000\n",
      "?where=connectionTime >= \"Tue, 01 Jan 2019 08:00:00 GMT\" and connectionTime <= \"Wed, 01 Jan 2020 08:00:00 GMT\"&max_results=1000000\n"
     ]
    }
   ],
   "source": [
    "final = pd.DataFrame()\n",
    "for site in [\"caltech\", \"jpl\", \"office001\"]: #\"caltech\", \"jpl\", \"office001\"\n",
    "    out = get_sessions(api_token,url,site, cond=condition, project=None, sort=None, timeseries=False)\n",
    "    \n",
    "    final=final.append(out)"
   ]
  },
  {
   "cell_type": "markdown",
   "metadata": {},
   "source": [
    "### Cleaning and Feature Computation"
   ]
  },
  {
   "cell_type": "code",
   "execution_count": 16,
   "metadata": {},
   "outputs": [],
   "source": [
    "# extrapolate enty and exit time (allow for 3 min to connect)\n",
    "final[\"EntryDateTime\"] = final[\"connectionTime\"].apply(lambda x: pd.to_datetime(x)-pd.Timedelta(minutes=3))\n",
    "final[\"ExitDateTime\"] = final[\"disconnectTime\"].apply(lambda x: pd.to_datetime(x)+pd.Timedelta(minutes=3))"
   ]
  },
  {
   "cell_type": "code",
   "execution_count": 19,
   "metadata": {},
   "outputs": [],
   "source": [
    "def weekday_flag (x):\n",
    "    if x < 4:\n",
    "        return 1\n",
    "    else:\n",
    "        return 0\n",
    "    \n",
    "def minutes(td):\n",
    "    \n",
    "    \"\"\"Returns timedelta in minutes (Int)\"\"\"\n",
    "    \n",
    "    return td.days*24*60 + (td.seconds // 3600)*60 + (td.seconds//60)%60\n",
    "    \n",
    "def minutes_from_midnight (datetime_obj):\n",
    "    mfm = datetime_obj.hour * 60 + datetime_obj.minute\n",
    "    \n",
    "    return mfm"
   ]
  },
  {
   "cell_type": "code",
   "execution_count": 25,
   "metadata": {},
   "outputs": [],
   "source": [
    "# Create required features\n",
    "\n",
    "#get temporal features\n",
    "final[\"EntryDateTime\"] = pd.to_datetime(final[\"EntryDateTime\"])\n",
    "final[\"ExitDateTime\"] = pd.to_datetime(final[\"ExitDateTime\"])\n",
    "\n",
    "final['EntryMFM'] = final['EntryDateTime'].apply (lambda x: minutes_from_midnight(x) )\n",
    "final['ExitMFM'] = final['ExitDateTime'].apply (lambda x: minutes_from_midnight(x) )\n",
    "\n",
    "final[\"EntryDate\"] = final[\"EntryDateTime\"].apply(lambda x: x.date())\n",
    "final[\"ExitDate\"] = final[\"ExitDateTime\"].apply(lambda x: x.date())\n",
    "final[\"EntryHour\"] = final[\"EntryDateTime\"].apply(lambda x: x.hour)\n",
    "final[\"ExitHour\"] = final[\"ExitDateTime\"].apply(lambda x: x.hour)\n",
    "\n",
    "# Entry day\n",
    "final[\"EntryDayOfWeek\"] = final[\"EntryDateTime\"].apply(lambda x: x.weekday())    \n",
    "final[\"EntryWeekday_yn\"] = final[\"EntryDayOfWeek\"].apply(lambda x: weekday_flag(x))\n",
    "\n",
    "# Duration of stay\n",
    "final[\"DurationStay\"] = final[\"ExitDateTime\"]-final[\"EntryDateTime\"]\n",
    "final[\"MinutesStay\"] = final[\"DurationStay\"].apply(lambda x: minutes(x))\n",
    "final[\"HoursStay\"] = final[\"MinutesStay\"]/60\n",
    "\n",
    "\n",
    "# time is circular; we can reperesent by sine and cosine tranformation (see: https://datascience.stackexchange.com/questions/8799/boundary-conditions-for-clustering)\n",
    "final[\"EntryHour_sin\"] = final[\"EntryHour\"].apply(lambda t: np.sin(2*np.pi*(t/24)))\n",
    "final[\"EntryHour_cos\"] = final[\"EntryHour\"].apply(lambda t: np.cos(2*np.pi*(t/24)))\n",
    "final[\"EntryMin_sin\"] = final[\"EntryMFM\"].apply(lambda t: np.sin(2*np.pi*(t/(24*60))))\n",
    "final[\"EntryMin_cos\"] = final[\"EntryMFM\"].apply(lambda t: np.cos(2*np.pi*(t/(24*60))))\n",
    "\n",
    "final[\"ExitHour_sin\"] = final[\"ExitHour\"].apply(lambda t: np.sin(2*np.pi*(t/24)))\n",
    "final[\"ExitHour_cos\"] = final[\"ExitHour\"].apply(lambda t: np.cos(2*np.pi*(t/24)))\n",
    "final[\"ExitMin_sin\"] = final[\"ExitMFM\"].apply(lambda t: np.sin(2*np.pi*(t/(24*60))))\n",
    "final[\"ExitMin_cos\"] = final[\"ExitMFM\"].apply(lambda t: np.cos(2*np.pi*(t/(24*60))))"
   ]
  },
  {
   "cell_type": "markdown",
   "metadata": {},
   "source": [
    "### Save Data"
   ]
  },
  {
   "cell_type": "code",
   "execution_count": 26,
   "metadata": {},
   "outputs": [],
   "source": [
    "final.to_csv(DATA_PATH+\"ACN_Caltech_Charging_Data/acndata_sessions_COMBINED_API.csv\")"
   ]
  },
  {
   "cell_type": "markdown",
   "metadata": {},
   "source": [
    "## Some Analysis"
   ]
  },
  {
   "cell_type": "markdown",
   "metadata": {},
   "source": [
    "Requested Mileage [miles]"
   ]
  },
  {
   "cell_type": "code",
   "execution_count": 22,
   "metadata": {},
   "outputs": [
    {
     "data": {
      "text/plain": [
       "<AxesSubplot:xlabel='userInputs_milesRequested'>"
      ]
     },
     "execution_count": 22,
     "metadata": {},
     "output_type": "execute_result"
    },
    {
     "data": {
      "image/png": "[encoded data removed]",
      "text/plain": [
       "<Figure size 432x288 with 1 Axes>"
      ]
     },
     "metadata": {
      "needs_background": "light"
     },
     "output_type": "display_data"
    }
   ],
   "source": [
    "sns.distplot(final[final[\"userInputs_milesRequested\"].isna()==False][\"userInputs_milesRequested\"],norm_hist=True,bins=12)"
   ]
  },
  {
   "cell_type": "markdown",
   "metadata": {},
   "source": [
    "Requested Energy [kWh]"
   ]
  },
  {
   "cell_type": "code",
   "execution_count": 23,
   "metadata": {},
   "outputs": [
    {
     "data": {
      "text/plain": [
       "<AxesSubplot:xlabel='userInputs_kWhRequested'>"
      ]
     },
     "execution_count": 23,
     "metadata": {},
     "output_type": "execute_result"
    },
    {
     "data": {
      "image/png": "[encoded data removed]",
      "text/plain": [
       "<Figure size 432x288 with 1 Axes>"
      ]
     },
     "metadata": {
      "needs_background": "light"
     },
     "output_type": "display_data"
    }
   ],
   "source": [
    "sns.distplot(final[final[\"userInputs_kWhRequested\"].isna()==False][\"userInputs_kWhRequested\"],norm_hist=True,bins=12)"
   ]
  },
  {
   "cell_type": "markdown",
   "metadata": {},
   "source": [
    "___"
   ]
  },
  {
   "cell_type": "markdown",
   "metadata": {},
   "source": [
    "LEGACY CODE BELOW"
   ]
  },
  {
   "cell_type": "markdown",
   "metadata": {},
   "source": [
    "## Data from web interface (has some issues regrading time zone conversion)"
   ]
  },
  {
   "cell_type": "code",
   "execution_count": 90,
   "metadata": {},
   "outputs": [],
   "source": [
    "def add_user_input_cols (df):\n",
    "    \n",
    "    \"Extracts user inputs and adds as columns\"\n",
    "    \n",
    "    user_input_keys = ['WhPerMile', 'kWhRequested', 'milesRequested', 'minutesAvailable', \n",
    "                       'modifiedAt', 'paymentRequired', 'requestedDeparture', 'userID']\n",
    "    \n",
    "    for key in user_input_keys: #userInputs\n",
    "        \n",
    "        df[\"userInputs_\"+key] = df[\"userInputs\"].apply(lambda x: x[0][key] if type(x)==list else np.NaN)\n",
    "        \n",
    "    df.drop(\"userInputs\",axis=1,inplace=True)\n",
    "    \n",
    "    return df"
   ]
  },
  {
   "cell_type": "markdown",
   "metadata": {},
   "source": [
    "Data prep routine"
   ]
  },
  {
   "cell_type": "code",
   "execution_count": 5,
   "metadata": {},
   "outputs": [],
   "source": [
    "final_data = pd.DataFrame()\n",
    "\n",
    "for fac in facilities:\n",
    "\n",
    "    with open(DATA_PATH+\"ACN_Caltech_Charging_Data/acndata_sessions_{}.json\".format(fac)) as f:\n",
    "        data = json.load(f)\n",
    "        data = pd.DataFrame(data[\"_items\"])\n",
    "        data[\"siteName\"] = fac\n",
    "        data = add_user_input_cols (data)\n",
    "\n",
    "        # some formatting\n",
    "        for t_col in ['connectionTime', 'disconnectTime','doneChargingTime','userInputs_modifiedAt','userInputs_requestedDeparture']:\n",
    "            data[t_col]= pd.to_datetime(data[t_col])\n",
    "\n",
    "        final_data = final_data.append(data)"
   ]
  },
  {
   "cell_type": "markdown",
   "metadata": {},
   "source": [
    "Dates and Times seem off. We need to convert back to local time!"
   ]
  },
  {
   "cell_type": "code",
   "execution_count": 287,
   "metadata": {},
   "outputs": [],
   "source": [
    "#final_data.to_csv(DATA_PATH+\"ACN_Caltech_Charging_Data/acndata_sessions_COMBINED.csv\")"
   ]
  }
 ],
 "metadata": {
  "kernelspec": {
   "display_name": "Python 3",
   "language": "python",
   "name": "python3"
  },
  "language_info": {
   "codemirror_mode": {
    "name": "ipython",
    "version": 3
   },
   "file_extension": ".py",
   "mimetype": "text/x-python",
   "name": "python",
   "nbconvert_exporter": "python",
   "pygments_lexer": "ipython3",
   "version": "3.7.6"
  }
 },
 "nbformat": 4,
 "nbformat_minor": 4
}
