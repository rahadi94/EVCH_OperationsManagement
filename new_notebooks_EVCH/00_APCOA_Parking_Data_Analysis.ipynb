{
 "cells": [
  {
   "cell_type": "markdown",
   "metadata": {},
   "source": [
    "## Parker Data Prep and Analysis\n",
    "- of parking types\n",
    "- of parking garages (share of parking types)"
   ]
  },
  {
   "cell_type": "code",
   "execution_count": 1,
   "metadata": {},
   "outputs": [],
   "source": [
    "import numpy as np\n",
    "import pandas as pd\n",
    "import seaborn as sns\n",
    "from datetime import datetime\n",
    "from matplotlib import pyplot as plt\n",
    "from pandas.plotting import register_matplotlib_converters\n",
    "register_matplotlib_converters()\n",
    "import holidays\n",
    "\n",
    "# ML/Clustering stuff\n",
    "from sklearn.preprocessing import StandardScaler\n",
    "from sklearn.cluster import KMeans\n",
    "\n",
    "import warnings\n",
    "warnings.filterwarnings(action=\"ignore\")"
   ]
  },
  {
   "cell_type": "code",
   "execution_count": 2,
   "metadata": {},
   "outputs": [],
   "source": [
    "# CONFIG\n",
    "\n",
    "DATA_PATH = \"/Volumes/karsten.schroer@uni-koeln.de/Uni/Research/04_CASE_Clustered_EV_Charging/\"\n",
    "OUT_PATH = \"\"\n",
    "HOLIDAY_YEARS = [2019, 2020]"
   ]
  },
  {
   "cell_type": "markdown",
   "metadata": {},
   "source": [
    "#### Data Preparation"
   ]
  },
  {
   "cell_type": "code",
   "execution_count": 3,
   "metadata": {},
   "outputs": [
    {
     "name": "stdout",
     "output_type": "stream",
     "text": [
      "Num facilities: 7\n",
      "Num parking events: 3843007\n"
     ]
    }
   ],
   "source": [
    "# Load Data\n",
    "parkings = pd.read_csv(DATA_PATH+\"Parking_Data/Parking_Data_Combined.csv\")\n",
    "parkings = parkings[[\"EntryDateTime\",\"ExitDateTime\",\"HoursStay\",\"MinutesStay\",\"RevenueAmount\",\"SiteID\",\"Year\"]]\n",
    "\n",
    "# limit parking duration to 48h (let's not do this for now!)\n",
    "parkings = parkings[parkings[\"MinutesStay\"]<48*60]\n",
    "\n",
    "# some info\n",
    "print(\"Num facilities: {}\".format(len(parkings[\"SiteID\"].unique())))\n",
    "print(\"Num parking events: {}\".format(len(parkings)))"
   ]
  },
  {
   "cell_type": "code",
   "execution_count": 4,
   "metadata": {},
   "outputs": [],
   "source": [
    "holidays_ger = []\n",
    "\n",
    "# Extract Holidays\n",
    "for item in holidays.Germany(years=HOLIDAY_YEARS).items():\n",
    "    holidays_ger.append(item[0])\n",
    "\n",
    "# Add Christmas Eve and New Years Eve manually since it is not an official holiday\n",
    "holidays_ger.append(datetime(year=2019, month=12, day=24).date())\n",
    "holidays_ger.append(datetime(year=2019, month=12, day=31).date())\n",
    "\n",
    "\n",
    "def weekday_flag (x):\n",
    "    if x < 4:\n",
    "        return 1\n",
    "    else:\n",
    "        return 0\n",
    "\n",
    "def holiday_flag (x):\n",
    "    \n",
    "    x = pd.to_datetime(x).date()\n",
    "    \n",
    "    if x in holidays_ger:\n",
    "        return 1\n",
    "    else:\n",
    "        return 0\n",
    "    \n",
    "def minutes_from_midnight (datetime_obj):\n",
    "    mfm = datetime_obj.hour * 60 + datetime_obj.minute\n",
    "    \n",
    "    return mfm"
   ]
  },
  {
   "cell_type": "code",
   "execution_count": 5,
   "metadata": {},
   "outputs": [],
   "source": [
    "# Create required features\n",
    "\n",
    "#get temporal features\n",
    "parkings[\"EntryDateTime\"] = pd.to_datetime(parkings[\"EntryDateTime\"])\n",
    "parkings[\"ExitDateTime\"] = pd.to_datetime(parkings[\"ExitDateTime\"])\n",
    "\n",
    "parkings['EntryMFM'] = parkings['EntryDateTime'].apply (lambda x: minutes_from_midnight(x) )\n",
    "parkings['ExitMFM'] = parkings['ExitDateTime'].apply (lambda x: minutes_from_midnight(x) )\n",
    "\n",
    "parkings[\"EntryDate\"] = parkings[\"EntryDateTime\"].apply(lambda x: x.date())\n",
    "parkings[\"ExitDate\"] = parkings[\"ExitDateTime\"].apply(lambda x: x.date())\n",
    "parkings[\"EntryHour\"] = parkings[\"EntryDateTime\"].apply(lambda x: x.hour)\n",
    "parkings[\"ExitHour\"] = parkings[\"ExitDateTime\"].apply(lambda x: x.hour)\n",
    "\n",
    "# time is circular; we can reperesent by sine and cosine tranformation (see: https://datascience.stackexchange.com/questions/8799/boundary-conditions-for-clustering)\n",
    "parkings[\"EntryHour_sin\"] = parkings[\"EntryHour\"].apply(lambda t: np.sin(2*np.pi*(t/24)))\n",
    "parkings[\"EntryHour_cos\"] = parkings[\"EntryHour\"].apply(lambda t: np.cos(2*np.pi*(t/24)))\n",
    "parkings[\"EntryMin_sin\"] = parkings[\"EntryMFM\"].apply(lambda t: np.sin(2*np.pi*(t/(24*60))))\n",
    "parkings[\"EntryMin_cos\"] = parkings[\"EntryMFM\"].apply(lambda t: np.cos(2*np.pi*(t/(24*60))))\n",
    "\n",
    "parkings[\"ExitHour_sin\"] = parkings[\"ExitHour\"].apply(lambda t: np.sin(2*np.pi*(t/24)))\n",
    "parkings[\"ExitHour_cos\"] = parkings[\"ExitHour\"].apply(lambda t: np.cos(2*np.pi*(t/24)))\n",
    "parkings[\"ExitMin_sin\"] = parkings[\"ExitMFM\"].apply(lambda t: np.sin(2*np.pi*(t/(24*60))))\n",
    "parkings[\"ExitMin_cos\"] = parkings[\"ExitMFM\"].apply(lambda t: np.cos(2*np.pi*(t/(24*60))))\n",
    "\n",
    "# Entry day\n",
    "parkings[\"EntryDayOfWeek\"] = parkings[\"EntryDateTime\"].apply(lambda x: x.weekday())    \n",
    "parkings[\"EntryWeekday_yn\"] = parkings[\"EntryDayOfWeek\"].apply(lambda x: weekday_flag(x))\n",
    "parkings[\"EntryHoliday_yn\"] = parkings[\"EntryDateTime\"].apply(lambda x: holiday_flag(x)) # axis = 1 for row-wise on entire data frame"
   ]
  },
  {
   "cell_type": "code",
   "execution_count": 6,
   "metadata": {},
   "outputs": [],
   "source": [
    "parkings.to_csv(DATA_PATH+\"Parking_Data/Parking_Data_Combined_CLEAN.csv\")"
   ]
  },
  {
   "cell_type": "markdown",
   "metadata": {},
   "source": [
    "### Facility-level Analyses"
   ]
  },
  {
   "cell_type": "markdown",
   "metadata": {},
   "source": [
    "Unique Parkers per day"
   ]
  },
  {
   "cell_type": "code",
   "execution_count": 7,
   "metadata": {},
   "outputs": [],
   "source": [
    "# data\n",
    "parkings = pd.read_csv(DATA_PATH+\"Parking_Data/Parking_Data_Combined_CLEAN.csv\")\n",
    "parkings[\"EntryDateTime\"] = pd.to_datetime(parkings[\"EntryDateTime\"])\n",
    "parkings[\"EntryDate\"] = parkings[\"EntryDateTime\"].apply(lambda x: x.replace(second=0, minute=0, hour=0))"
   ]
  },
  {
   "cell_type": "code",
   "execution_count": 8,
   "metadata": {},
   "outputs": [],
   "source": [
    "parkings_daily = parkings.groupby([\"SiteID\",\"EntryDate\"],as_index=False).count()\n",
    "unique_vehicles_daily = parkings_daily.groupby(\"SiteID\",as_index=False).agg({\"HoursStay\":\"min\",\"EntryDateTime\":\"max\",\"ExitDateTime\":\"mean\"})\n",
    "\n",
    "unique_vehicles_daily.columns=[\"SiteID\",\"MinUniqueVehicles\",\"MaxUniqueVehicles\",\"MeanUniqueVehicles\"]\n",
    "unique_vehicles_daily[\"MeanUniqueVehicles\"] = unique_vehicles_daily[\"MeanUniqueVehicles\"].apply(lambda x: round(x))"
   ]
  },
  {
   "cell_type": "code",
   "execution_count": 9,
   "metadata": {},
   "outputs": [
    {
     "data": {
      "text/html": [
       "<div>\n",
       "<style scoped>\n",
       "    .dataframe tbody tr th:only-of-type {\n",
       "        vertical-align: middle;\n",
       "    }\n",
       "\n",
       "    .dataframe tbody tr th {\n",
       "        vertical-align: top;\n",
       "    }\n",
       "\n",
       "    .dataframe thead th {\n",
       "        text-align: right;\n",
       "    }\n",
       "</style>\n",
       "<table border=\"1\" class=\"dataframe\">\n",
       "  <thead>\n",
       "    <tr style=\"text-align: right;\">\n",
       "      <th></th>\n",
       "      <th>SiteID</th>\n",
       "      <th>MinUniqueVehicles</th>\n",
       "      <th>MaxUniqueVehicles</th>\n",
       "      <th>MeanUniqueVehicles</th>\n",
       "    </tr>\n",
       "  </thead>\n",
       "  <tbody>\n",
       "    <tr>\n",
       "      <th>0</th>\n",
       "      <td>Facility_1</td>\n",
       "      <td>122</td>\n",
       "      <td>4813</td>\n",
       "      <td>1877</td>\n",
       "    </tr>\n",
       "    <tr>\n",
       "      <th>1</th>\n",
       "      <td>Facility_2</td>\n",
       "      <td>51</td>\n",
       "      <td>717</td>\n",
       "      <td>468</td>\n",
       "    </tr>\n",
       "    <tr>\n",
       "      <th>2</th>\n",
       "      <td>Facility_3</td>\n",
       "      <td>565</td>\n",
       "      <td>3359</td>\n",
       "      <td>2272</td>\n",
       "    </tr>\n",
       "    <tr>\n",
       "      <th>3</th>\n",
       "      <td>Facility_4</td>\n",
       "      <td>74</td>\n",
       "      <td>8492</td>\n",
       "      <td>3094</td>\n",
       "    </tr>\n",
       "    <tr>\n",
       "      <th>4</th>\n",
       "      <td>Facility_5</td>\n",
       "      <td>38</td>\n",
       "      <td>2705</td>\n",
       "      <td>1171</td>\n",
       "    </tr>\n",
       "    <tr>\n",
       "      <th>5</th>\n",
       "      <td>Facility_6</td>\n",
       "      <td>16</td>\n",
       "      <td>2073</td>\n",
       "      <td>880</td>\n",
       "    </tr>\n",
       "    <tr>\n",
       "      <th>6</th>\n",
       "      <td>Facility_KoeBogen</td>\n",
       "      <td>8</td>\n",
       "      <td>2115</td>\n",
       "      <td>1002</td>\n",
       "    </tr>\n",
       "  </tbody>\n",
       "</table>\n",
       "</div>"
      ],
      "text/plain": [
       "              SiteID  MinUniqueVehicles  MaxUniqueVehicles  MeanUniqueVehicles\n",
       "0         Facility_1                122               4813                1877\n",
       "1         Facility_2                 51                717                 468\n",
       "2         Facility_3                565               3359                2272\n",
       "3         Facility_4                 74               8492                3094\n",
       "4         Facility_5                 38               2705                1171\n",
       "5         Facility_6                 16               2073                 880\n",
       "6  Facility_KoeBogen                  8               2115                1002"
      ]
     },
     "execution_count": 9,
     "metadata": {},
     "output_type": "execute_result"
    }
   ],
   "source": [
    "unique_vehicles_daily"
   ]
  },
  {
   "cell_type": "markdown",
   "metadata": {},
   "source": [
    "Total number of parking spots (assumed to be equal to max occupancy)"
   ]
  },
  {
   "cell_type": "code",
   "execution_count": 10,
   "metadata": {},
   "outputs": [],
   "source": [
    "def round_down_to_base (num,base):\n",
    "    return num - (num%base)  "
   ]
  },
  {
   "cell_type": "code",
   "execution_count": 11,
   "metadata": {},
   "outputs": [],
   "source": [
    "# settings\n",
    "facilities = [\"Facility_1\",\"Facility_2\",\"Facility_3\",\"Facility_4\",\"Facility_5\",\"Facility_6\",\"Facility_KoeBogen\"]#[\"Facility_1\",\"Facility_2\",\"Facility_3\",\"Facility_4\",\"Facility_5\",\"Facility_6\",\"Facility_KoeBogen\"]\n",
    "agg_level = 5 #minutes\n",
    "\n",
    "# set entry/exit time to five min res\n",
    "parkings[\"EntryDateTime\"] = pd.to_datetime(parkings[\"EntryDateTime\"])\n",
    "parkings[\"EntryDateTime{}min\".format(agg_level)] = parkings[\"EntryDateTime\"].apply(lambda x: x.replace(second=0, minute=round_down_to_base(x.minute,agg_level)))\n",
    "\n",
    "parkings[\"ExitDateTime\"] = pd.to_datetime(parkings[\"ExitDateTime\"])\n",
    "parkings[\"ExitDateTime{}min\".format(agg_level)] = parkings[\"ExitDateTime\"].apply(lambda x: x.replace(second=0, minute=round_down_to_base(x.minute,agg_level)))#.apply(lambda x: x.replace(second=0, microsecond=0))\n",
    "\n",
    "# count entries and exits per time period in separate df\n",
    "entry_counts = parkings[[\"SiteID\",\"EntryDateTime{}min\".format(agg_level),\"ExitDateTime{}min\".format(agg_level)]].groupby([\"SiteID\",\"EntryDateTime{}min\".format(agg_level)]).count()\n",
    "entry_counts.columns=[\"EntryCounts\"]\n",
    "entry_counts.reset_index(inplace=True)\n",
    "\n",
    "exit_counts = parkings[[\"SiteID\",\"EntryDateTime{}min\".format(agg_level),\"ExitDateTime{}min\".format(agg_level)]].groupby([\"SiteID\",\"ExitDateTime{}min\".format(agg_level)]).count()\n",
    "exit_counts.columns=[\"ExitCounts\"]\n",
    "exit_counts.reset_index(inplace=True)"
   ]
  },
  {
   "cell_type": "code",
   "execution_count": 12,
   "metadata": {},
   "outputs": [],
   "source": [
    "# compute target index\n",
    "target_index = pd.DataFrame()\n",
    "for facility in facilities:\n",
    "    df=pd.DataFrame()\n",
    "    df[\"datetime\"]= pd.date_range(start=parkings[\"EntryDateTime{}min\".format(agg_level)].min(), end=parkings[\"ExitDateTime{}min\".format(agg_level)].max(),freq=\"{}S\".format(agg_level*60))\n",
    "    df[\"facility\"] = facility\n",
    "    df[\"key\"] = df.apply(lambda x: \"{}_{}\".format(x.facility,x.datetime),axis=1) \n",
    "\n",
    "    #print(facility)\n",
    "\n",
    "    target_index = target_index.append(df) \n",
    "        \n",
    "\n",
    "# merge entries and exits\n",
    "\n",
    "# create keys\n",
    "entry_counts[\"key\"] = entry_counts.apply(lambda x: \"{}_{}\".format(x.SiteID,x.EntryDateTime5min),axis=1) \n",
    "exit_counts[\"key\"] = exit_counts.apply(lambda x: \"{}_{}\".format(x.SiteID,x.ExitDateTime5min),axis=1) \n",
    "\n",
    "# merge with target\n",
    "occupancy = target_index.merge(entry_counts[[\"key\",\"EntryCounts\"]], on=\"key\", how=\"left\")\n",
    "occupancy = occupancy.merge(exit_counts[[\"key\",\"ExitCounts\"]], on=\"key\", how=\"left\")\n",
    "occupancy.fillna(0,inplace=True)"
   ]
  },
  {
   "cell_type": "code",
   "execution_count": 13,
   "metadata": {},
   "outputs": [],
   "source": [
    "# get net occupancy change per faclity, cluster and period\n",
    "occupancy[\"NetOccupancyChange\"] = occupancy[\"EntryCounts\"]-occupancy[\"ExitCounts\"]\n",
    "\n",
    "# get total occupancy as cumulative sum\n",
    "\n",
    "occupancy_final = pd.DataFrame()\n",
    "\n",
    "for facility in occupancy[\"facility\"].unique():\n",
    "        \n",
    "    df = occupancy[(occupancy[\"facility\"]==facility)]\n",
    "    df.sort_values(by=\"datetime\",inplace=True)\n",
    "    df[\"TotalOccupancy\"] = df[\"NetOccupancyChange\"].cumsum()\n",
    "    occupancy_final = occupancy_final.append(df)\n",
    "        \n",
    "occupancy_final[\"date\"] = occupancy_final[\"datetime\"].apply(lambda x: x.date())"
   ]
  },
  {
   "cell_type": "code",
   "execution_count": 14,
   "metadata": {},
   "outputs": [],
   "source": [
    "num_parking_spots = pd.DataFrame(occupancy_final.groupby(\"facility\").max()[\"TotalOccupancy\"])\n",
    "num_parking_spots.reset_index(inplace=True)\n",
    "num_parking_spots.columns=[\"SiteID\",\"NumParkingSpots\"]"
   ]
  },
  {
   "cell_type": "code",
   "execution_count": 15,
   "metadata": {},
   "outputs": [
    {
     "data": {
      "text/html": [
       "<div>\n",
       "<style scoped>\n",
       "    .dataframe tbody tr th:only-of-type {\n",
       "        vertical-align: middle;\n",
       "    }\n",
       "\n",
       "    .dataframe tbody tr th {\n",
       "        vertical-align: top;\n",
       "    }\n",
       "\n",
       "    .dataframe thead th {\n",
       "        text-align: right;\n",
       "    }\n",
       "</style>\n",
       "<table border=\"1\" class=\"dataframe\">\n",
       "  <thead>\n",
       "    <tr style=\"text-align: right;\">\n",
       "      <th></th>\n",
       "      <th>SiteID</th>\n",
       "      <th>NumParkingSpots</th>\n",
       "    </tr>\n",
       "  </thead>\n",
       "  <tbody>\n",
       "    <tr>\n",
       "      <th>0</th>\n",
       "      <td>Facility_1</td>\n",
       "      <td>1271.0</td>\n",
       "    </tr>\n",
       "    <tr>\n",
       "      <th>1</th>\n",
       "      <td>Facility_2</td>\n",
       "      <td>276.0</td>\n",
       "    </tr>\n",
       "    <tr>\n",
       "      <th>2</th>\n",
       "      <td>Facility_3</td>\n",
       "      <td>1226.0</td>\n",
       "    </tr>\n",
       "    <tr>\n",
       "      <th>3</th>\n",
       "      <td>Facility_4</td>\n",
       "      <td>2167.0</td>\n",
       "    </tr>\n",
       "    <tr>\n",
       "      <th>4</th>\n",
       "      <td>Facility_5</td>\n",
       "      <td>715.0</td>\n",
       "    </tr>\n",
       "    <tr>\n",
       "      <th>5</th>\n",
       "      <td>Facility_6</td>\n",
       "      <td>826.0</td>\n",
       "    </tr>\n",
       "    <tr>\n",
       "      <th>6</th>\n",
       "      <td>Facility_KoeBogen</td>\n",
       "      <td>508.0</td>\n",
       "    </tr>\n",
       "  </tbody>\n",
       "</table>\n",
       "</div>"
      ],
      "text/plain": [
       "              SiteID  NumParkingSpots\n",
       "0         Facility_1           1271.0\n",
       "1         Facility_2            276.0\n",
       "2         Facility_3           1226.0\n",
       "3         Facility_4           2167.0\n",
       "4         Facility_5            715.0\n",
       "5         Facility_6            826.0\n",
       "6  Facility_KoeBogen            508.0"
      ]
     },
     "execution_count": 15,
     "metadata": {},
     "output_type": "execute_result"
    }
   ],
   "source": [
    "num_parking_spots"
   ]
  },
  {
   "cell_type": "code",
   "execution_count": 16,
   "metadata": {},
   "outputs": [],
   "source": [
    "num_parking_spots.to_csv(DATA_PATH+\"Parking_Data/parking_size.csv\")"
   ]
  },
  {
   "cell_type": "code",
   "execution_count": null,
   "metadata": {},
   "outputs": [],
   "source": []
  }
 ],
 "metadata": {
  "kernelspec": {
   "display_name": "Python 3",
   "language": "python",
   "name": "python3"
  },
  "language_info": {
   "codemirror_mode": {
    "name": "ipython",
    "version": 3
   },
   "file_extension": ".py",
   "mimetype": "text/x-python",
   "name": "python",
   "nbconvert_exporter": "python",
   "pygments_lexer": "ipython3",
   "version": "3.7.6"
  }
 },
 "nbformat": 4,
 "nbformat_minor": 4
}
