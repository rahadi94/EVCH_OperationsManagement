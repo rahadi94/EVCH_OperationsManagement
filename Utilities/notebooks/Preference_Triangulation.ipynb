{
 "cells": [
  {
   "cell_type": "code",
   "execution_count": null,
   "metadata": {
    "pycharm": {
     "is_executing": false
    },
    "is_executing": true
   },
   "outputs": [],
   "source": [
    "import numpy as np\n",
    "import pandas as pd\n",
    "import seaborn as sns\n",
    "from datetime import datetime\n",
    "from matplotlib import pyplot as plt\n",
    "from pandas.plotting import register_matplotlib_converters\n",
    "register_matplotlib_converters()\n",
    "from numpy.random import default_rng\n",
    "\n",
    "# ML/Clustering stuff\n",
    "#from sklearn.preprocessing import StandardScaler\n",
    "#from sklearn.cluster import KMeans\n",
    "\n",
    "import warnings\n",
    "warnings.filterwarnings(action=\"ignore\")\n"
   ]
  },
  {
   "cell_type": "code",
   "execution_count": 2,
   "metadata": {},
   "outputs": [],
   "source": [
    "# CONFIG\n",
    "\n",
    "DATA_PATH = \"/Volumes/karsten.schroer@uni-koeln.de/Uni/Research/04_CASE_Clustered_EV_Charging/\"\n",
    "OUT_PATH = \"\""
   ]
  },
  {
   "cell_type": "code",
   "execution_count": 3,
   "metadata": {},
   "outputs": [],
   "source": [
    "def set_plotting_style(palette=\"mako\"):\n",
    "    # This sets reasonable defaults for font size for a figure that will go in a paper\n",
    "    sns.set_context(\"paper\")\n",
    "    # Set the font to be serif, rather than sans\n",
    "    sns.set(font='serif')\n",
    "\n",
    "    # define colors\n",
    "    sns.set_palette(palette, n_colors=9)\n",
    "    # project_even_cols = [[44 / 255, 25 / 255, 149 / 255, .75], [147 / 255, 41 / 255, 223 / 255, .75],[0 / 255, 9 / 255, 43 / 255, .75]]\n",
    "\n",
    "    # Make the background white, and specify the font family\n",
    "    sns.set_style(\"ticks\", {\"font.family\": \"serif\", \"font.serif\": [\"Times\", \"Palatino\", \"serif\"]})"
   ]
  },
  {
   "cell_type": "code",
   "execution_count": 4,
   "metadata": {},
   "outputs": [],
   "source": [
    "set_plotting_style()"
   ]
  },
  {
   "cell_type": "markdown",
   "metadata": {},
   "source": [
    "Preference Routine is as follows:\n",
    "\n",
    "1. Arrival and Departure Patterns:\n",
    "    - We use APCOA Parking Data to determine stochastic arrival ($A$), stay duration ($\\delta$) and departure ($D$) preferences\n",
    "1. Request Charging Y/N:\n",
    "    - EV share ($\\sigma_{EV}$): For each vehicle we select the propulsion technology probilistically based on a Brenoulli Process with $p(EV)=\\sigma_{EV}$ and $p(ICE)=(1-\\sigma_{EV})$\n",
    "    - Charge Y/N: Per each EV we decide whether the vehicle requires charging or not. We model this as probability distribution conditional on duration of stay $p(charge=True | \\delta)$\n",
    "1. Exact Charge Demand:\n",
    "    - Option I: Collaborative Filtering using ACN Data\n",
    "    - Option II: Simplified Transportation Demand Model, assuming daily commuting distances and home charging opportunity (Y/N)\n",
    "    - Option III: Assume start and end SOC as well as battery sizes (likely the inverior option)"
   ]
  },
  {
   "cell_type": "markdown",
   "metadata": {},
   "source": [
    "### Arrival and Departure Patterns (clustered)\n",
    "\n",
    "This is ground-truth data for time of entry, stay duration, time of exit"
   ]
  },
  {
   "cell_type": "code",
   "execution_count": 5,
   "metadata": {},
   "outputs": [
    {
     "name": "stdout",
     "output_type": "stream",
     "text": [
      "Num facilities: 7\n",
      "Num parking events: 3843007\n"
     ]
    }
   ],
   "source": [
    "# Load Data\n",
    "parkings = pd.read_csv(DATA_PATH+\"EV_Energy_Demand_Data/Parking+Charging_Data_BLENDED_CLUSTERED_v2.csv\")\n",
    "parkings = parkings[['EntryDateTime', 'ExitDateTime', 'HoursStay', 'MinutesStay', 'RevenueAmount', 'SiteID', \n",
    "                     'Year','EntryMFM', 'ExitMFM', 'EntryDate', 'ExitDate', 'EntryHour', 'ExitHour','EntryDayOfWeek', \n",
    "                     'EntryWeekday_yn', 'EntryHoliday_yn','userInputs_kWhRequested','ClusterName']] #'ClusterName',\n",
    "\n",
    "# limit parking duration to 48h (let's not do this for now!)\n",
    "parkings = parkings[parkings[\"MinutesStay\"]<48*60]\n",
    "\n",
    "# some info\n",
    "print(\"Num facilities: {}\".format(len(parkings[\"SiteID\"].unique())))\n",
    "print(\"Num parking events: {}\".format(len(parkings)))"
   ]
  },
  {
   "cell_type": "code",
   "execution_count": 6,
   "metadata": {},
   "outputs": [
    {
     "data": {
      "text/plain": [
       "array(['Facility_1', 'Facility_2', 'Facility_3', 'Facility_4',\n",
       "       'Facility_5', 'Facility_6', 'Facility_KoeBogen'], dtype=object)"
      ]
     },
     "execution_count": 6,
     "metadata": {},
     "output_type": "execute_result"
    }
   ],
   "source": [
    "parkings[\"SiteID\"].unique()"
   ]
  },
  {
   "cell_type": "code",
   "execution_count": 7,
   "metadata": {},
   "outputs": [],
   "source": [
    "parkings = parkings[parkings[\"SiteID\"]==\"Facility_3\"]"
   ]
  },
  {
   "cell_type": "code",
   "execution_count": 8,
   "metadata": {},
   "outputs": [],
   "source": [
    "min_dt= \"2019-06-03\"\n",
    "max_dt= \"2019-06-09\""
   ]
  },
  {
   "cell_type": "code",
   "execution_count": 9,
   "metadata": {},
   "outputs": [],
   "source": [
    "parkings = parkings[(parkings[\"EntryDateTime\"]>=min_dt)&(parkings[\"EntryDateTime\"]<=max_dt)]"
   ]
  },
  {
   "cell_type": "code",
   "execution_count": 10,
   "metadata": {},
   "outputs": [
    {
     "data": {
      "text/plain": [
       "14791"
      ]
     },
     "execution_count": 10,
     "metadata": {},
     "output_type": "execute_result"
    }
   ],
   "source": [
    "len(parkings)"
   ]
  },
  {
   "cell_type": "markdown",
   "metadata": {},
   "source": [
    "### EV Y/N\n",
    "\n",
    "This is modelled as a simple Bernoulli distribution which takes the value 1 with probability $p=\\sigma_{EV}$ and the value 0 with probability $q = 1-p$, i.e., EV is generated via a Brenoulli process"
   ]
  },
  {
   "cell_type": "code",
   "execution_count": 11,
   "metadata": {},
   "outputs": [],
   "source": [
    "def sample_electric_vehicles(df, ev_share, seed=42):\n",
    "    \"\"\"\n",
    "    Selects whether parked vehicle is an EV with probability p=ev_share. Sets energy demand of vehicles\n",
    "    that have been set to ICE to 0 kWh\n",
    "    :param df:\n",
    "    :param ev_share: [0,1]\n",
    "    :param seed: seed of random generator, if undefined set to None\n",
    "    :return: adds colums EV_yn and \"final_kWhRequested_updated\"\n",
    "    \"\"\"\n",
    "    # NOTE: TESTED AND PASSED\n",
    "\n",
    "    if ev_share > 1 or ev_share < 0:\n",
    "        raise ValueError(\"EV share must be in interval [0,1]!!!\")\n",
    "\n",
    "    # instantiate random number generator\n",
    "    rng = default_rng(seed=seed)\n",
    "\n",
    "    # randomly select EV with p=ev_share\n",
    "    ev_array = rng.choice([0, 1], p=[1 - ev_share, ev_share], size=len(df))\n",
    "\n",
    "    # match to df\n",
    "    df[\"EV_yn\"] = ev_array\n",
    "\n",
    "    # update energy demand, set to 0 if not an EV\n",
    "    #df[\"final_kWhRequested_updated\"] = df[\"EV_yn\"] * df[\"final_kWhRequested\"]\n",
    "\n",
    "    return df"
   ]
  },
  {
   "cell_type": "code",
   "execution_count": 12,
   "metadata": {},
   "outputs": [],
   "source": [
    "parkings = sample_electric_vehicles(parkings, ev_share=1, seed=42)"
   ]
  },
  {
   "cell_type": "markdown",
   "metadata": {},
   "source": [
    "### Request Charging Y/N\n",
    "\n",
    "(for now just have a min threshold)"
   ]
  },
  {
   "cell_type": "code",
   "execution_count": 13,
   "metadata": {},
   "outputs": [],
   "source": [
    "def sample_charge_request_yn(df, min_stay_minutes):\n",
    "    \"\"\"\n",
    "    xxx\n",
    "    :param df:\n",
    "    :param ev_share: [0,1]\n",
    "    :param seed: seed of random generator, if undefined set to None\n",
    "    :return: adds colums EV_yn and \"final_kWhRequested_updated\"\n",
    "    \"\"\"\n",
    "    \n",
    "    # Conditional Expectation of Success given Planned Duration of Stay \n",
    "    # Use probability in Brenoulli Process to define whether there is a charge request\n",
    "    \n",
    "    # For now: assume minimum stay duration of XX\n",
    "     \n",
    "    df[\"request_charge_yn\"] = df.apply(lambda x: 1 if x.EV_yn==1 and x.MinutesStay>=min_stay_minutes else 0, axis=1)\n",
    "\n",
    "    return df"
   ]
  },
  {
   "cell_type": "markdown",
   "metadata": {},
   "source": [
    "### Charge Quantity Request"
   ]
  },
  {
   "cell_type": "markdown",
   "metadata": {},
   "source": [
    "#### Collaborative Filtering Appraoch\n",
    "(DO THIS AFTER DAYS HAVE BEEN SELECTED DUE TO LONG RUNTIME)"
   ]
  },
  {
   "cell_type": "code",
   "execution_count": 14,
   "metadata": {},
   "outputs": [],
   "source": [
    "def generate_energy_demand_coll_filter_approach(df,ev_share,min_stay_minutes,max_charge_rate,seed):\n",
    "    \n",
    "    df = sample_electric_vehicles(df, ev_share, seed=seed)\n",
    "    df = sample_charge_request_yn(df,min_stay_minutes)\n",
    "    \n",
    "    # update charge request\n",
    "    \n",
    "    df[\"final_kWhRequested_Coll_Filter\"] = df.apply(lambda x: x.userInputs_kWhRequested if x.request_charge_yn==1 and x.EV_yn==1 else 0, axis=1)\n",
    "\n",
    "    \n",
    "    # ensure realistic charge request (i.e., fulfillment physically possible at max charge rate)\n",
    "    df[\"final_kWhRequested_Coll_Filter\"] = df.apply(lambda x: x.MinutesStay/60*max_charge_rate if x.final_kWhRequested_Coll_Filter>=x.MinutesStay/60*max_charge_rate\n",
    "                                                    else x.final_kWhRequested_Coll_Filter, axis=1)\n",
    "    \n",
    "    # ensure that energy demand does not exceed typical max battery size (70kWh)\n",
    "    max_battery_size = 100 #kWh\n",
    "    df[\"final_kWhRequested_Coll_Filter\"] = df[\"final_kWhRequested_Coll_Filter\"].apply(lambda x: max_battery_size if x>max_battery_size else x)\n",
    "    \n",
    "    \n",
    "    df[\"final_kWhRequested_Coll_Filter\"] = df[\"final_kWhRequested_Coll_Filter\"].apply(lambda x: round(x,ndigits=2))\n",
    "    \n",
    "    return df"
   ]
  },
  {
   "cell_type": "code",
   "execution_count": 15,
   "metadata": {},
   "outputs": [],
   "source": [
    "parkings = generate_energy_demand_coll_filter_approach(df=parkings,ev_share=1,min_stay_minutes=20,max_charge_rate=22,seed=42)"
   ]
  },
  {
   "cell_type": "code",
   "execution_count": 16,
   "metadata": {},
   "outputs": [
    {
     "data": {
      "text/html": [
       "<div>\n",
       "<style scoped>\n",
       "    .dataframe tbody tr th:only-of-type {\n",
       "        vertical-align: middle;\n",
       "    }\n",
       "\n",
       "    .dataframe tbody tr th {\n",
       "        vertical-align: top;\n",
       "    }\n",
       "\n",
       "    .dataframe thead th {\n",
       "        text-align: right;\n",
       "    }\n",
       "</style>\n",
       "<table border=\"1\" class=\"dataframe\">\n",
       "  <thead>\n",
       "    <tr style=\"text-align: right;\">\n",
       "      <th></th>\n",
       "      <th>EntryDateTime</th>\n",
       "      <th>ExitDateTime</th>\n",
       "      <th>HoursStay</th>\n",
       "      <th>MinutesStay</th>\n",
       "      <th>RevenueAmount</th>\n",
       "      <th>SiteID</th>\n",
       "      <th>Year</th>\n",
       "      <th>EntryMFM</th>\n",
       "      <th>ExitMFM</th>\n",
       "      <th>EntryDate</th>\n",
       "      <th>...</th>\n",
       "      <th>EntryHour</th>\n",
       "      <th>ExitHour</th>\n",
       "      <th>EntryDayOfWeek</th>\n",
       "      <th>EntryWeekday_yn</th>\n",
       "      <th>EntryHoliday_yn</th>\n",
       "      <th>userInputs_kWhRequested</th>\n",
       "      <th>ClusterName</th>\n",
       "      <th>EV_yn</th>\n",
       "      <th>request_charge_yn</th>\n",
       "      <th>final_kWhRequested_Coll_Filter</th>\n",
       "    </tr>\n",
       "  </thead>\n",
       "  <tbody>\n",
       "    <tr>\n",
       "      <th>1201968</th>\n",
       "      <td>2019-06-03 00:00:13</td>\n",
       "      <td>2019-06-03 00:23:22</td>\n",
       "      <td>0.383333</td>\n",
       "      <td>23</td>\n",
       "      <td>1.5</td>\n",
       "      <td>Facility_3</td>\n",
       "      <td>2019</td>\n",
       "      <td>0</td>\n",
       "      <td>23</td>\n",
       "      <td>2019-06-03</td>\n",
       "      <td>...</td>\n",
       "      <td>0</td>\n",
       "      <td>0</td>\n",
       "      <td>0</td>\n",
       "      <td>1</td>\n",
       "      <td>0</td>\n",
       "      <td>14.716667</td>\n",
       "      <td>Evening_short</td>\n",
       "      <td>1</td>\n",
       "      <td>1</td>\n",
       "      <td>8.43</td>\n",
       "    </tr>\n",
       "    <tr>\n",
       "      <th>1201969</th>\n",
       "      <td>2019-06-03 00:17:48</td>\n",
       "      <td>2019-06-03 00:22:21</td>\n",
       "      <td>0.083333</td>\n",
       "      <td>5</td>\n",
       "      <td>0.0</td>\n",
       "      <td>Facility_3</td>\n",
       "      <td>2019</td>\n",
       "      <td>17</td>\n",
       "      <td>22</td>\n",
       "      <td>2019-06-03</td>\n",
       "      <td>...</td>\n",
       "      <td>0</td>\n",
       "      <td>0</td>\n",
       "      <td>0</td>\n",
       "      <td>1</td>\n",
       "      <td>0</td>\n",
       "      <td>14.716667</td>\n",
       "      <td>Evening_short</td>\n",
       "      <td>1</td>\n",
       "      <td>0</td>\n",
       "      <td>0.00</td>\n",
       "    </tr>\n",
       "    <tr>\n",
       "      <th>1201970</th>\n",
       "      <td>2019-06-03 00:31:22</td>\n",
       "      <td>2019-06-03 20:02:58</td>\n",
       "      <td>19.516666</td>\n",
       "      <td>1171</td>\n",
       "      <td>0.0</td>\n",
       "      <td>Facility_3</td>\n",
       "      <td>2019</td>\n",
       "      <td>31</td>\n",
       "      <td>1202</td>\n",
       "      <td>2019-06-03</td>\n",
       "      <td>...</td>\n",
       "      <td>0</td>\n",
       "      <td>20</td>\n",
       "      <td>0</td>\n",
       "      <td>1</td>\n",
       "      <td>0</td>\n",
       "      <td>29.090833</td>\n",
       "      <td>Overnight</td>\n",
       "      <td>1</td>\n",
       "      <td>1</td>\n",
       "      <td>29.09</td>\n",
       "    </tr>\n",
       "  </tbody>\n",
       "</table>\n",
       "<p>3 rows × 21 columns</p>\n",
       "</div>"
      ],
      "text/plain": [
       "               EntryDateTime         ExitDateTime  HoursStay  MinutesStay  \\\n",
       "1201968  2019-06-03 00:00:13  2019-06-03 00:23:22   0.383333           23   \n",
       "1201969  2019-06-03 00:17:48  2019-06-03 00:22:21   0.083333            5   \n",
       "1201970  2019-06-03 00:31:22  2019-06-03 20:02:58  19.516666         1171   \n",
       "\n",
       "         RevenueAmount      SiteID  Year  EntryMFM  ExitMFM   EntryDate  ...  \\\n",
       "1201968            1.5  Facility_3  2019         0       23  2019-06-03  ...   \n",
       "1201969            0.0  Facility_3  2019        17       22  2019-06-03  ...   \n",
       "1201970            0.0  Facility_3  2019        31     1202  2019-06-03  ...   \n",
       "\n",
       "        EntryHour  ExitHour  EntryDayOfWeek  EntryWeekday_yn  EntryHoliday_yn  \\\n",
       "1201968         0         0               0                1                0   \n",
       "1201969         0         0               0                1                0   \n",
       "1201970         0        20               0                1                0   \n",
       "\n",
       "         userInputs_kWhRequested    ClusterName EV_yn  request_charge_yn  \\\n",
       "1201968                14.716667  Evening_short     1                  1   \n",
       "1201969                14.716667  Evening_short     1                  0   \n",
       "1201970                29.090833      Overnight     1                  1   \n",
       "\n",
       "         final_kWhRequested_Coll_Filter  \n",
       "1201968                            8.43  \n",
       "1201969                            0.00  \n",
       "1201970                           29.09  \n",
       "\n",
       "[3 rows x 21 columns]"
      ]
     },
     "execution_count": 16,
     "metadata": {},
     "output_type": "execute_result"
    }
   ],
   "source": [
    "parkings.head(3)"
   ]
  },
  {
   "cell_type": "code",
   "execution_count": 17,
   "metadata": {},
   "outputs": [
    {
     "data": {
      "text/plain": [
       "Index(['EntryDateTime', 'ExitDateTime', 'HoursStay', 'MinutesStay',\n",
       "       'RevenueAmount', 'SiteID', 'Year', 'EntryMFM', 'ExitMFM', 'EntryDate',\n",
       "       'ExitDate', 'EntryHour', 'ExitHour', 'EntryDayOfWeek',\n",
       "       'EntryWeekday_yn', 'EntryHoliday_yn', 'userInputs_kWhRequested',\n",
       "       'ClusterName', 'EV_yn', 'request_charge_yn',\n",
       "       'final_kWhRequested_Coll_Filter'],\n",
       "      dtype='object')"
      ]
     },
     "execution_count": 17,
     "metadata": {},
     "output_type": "execute_result"
    }
   ],
   "source": [
    "parkings.columns"
   ]
  },
  {
   "cell_type": "markdown",
   "metadata": {},
   "source": [
    "### Compute flexibility parameters (for WITS presentation)"
   ]
  },
  {
   "cell_type": "code",
   "execution_count": 18,
   "metadata": {},
   "outputs": [],
   "source": [
    "def get_laxity (df):\n",
    "    df[\"park_duration_h\"] = df[\"MinutesStay\"] / 60\n",
    "    df[\"full_speed_charge_duration\"] = df[\"final_kWhRequested_Coll_Filter\"] / 22\n",
    "    df[\"laxity\"] = df[\"park_duration_h\"] - df[\"full_speed_charge_duration\"]\n",
    "    \n",
    "    return df"
   ]
  },
  {
   "cell_type": "code",
   "execution_count": 19,
   "metadata": {},
   "outputs": [],
   "source": [
    "parkings = get_laxity(parkings)"
   ]
  },
  {
   "cell_type": "code",
   "execution_count": 24,
   "metadata": {},
   "outputs": [
    {
     "data": {
      "text/plain": [
       "Index(['EntryDateTime', 'ExitDateTime', 'HoursStay', 'MinutesStay',\n",
       "       'RevenueAmount', 'SiteID', 'Year', 'EntryMFM', 'ExitMFM', 'EntryDate',\n",
       "       'ExitDate', 'EntryHour', 'ExitHour', 'EntryDayOfWeek',\n",
       "       'EntryWeekday_yn', 'EntryHoliday_yn', 'userInputs_kWhRequested',\n",
       "       'ClusterName', 'EV_yn', 'request_charge_yn',\n",
       "       'final_kWhRequested_Coll_Filter', 'park_duration_h',\n",
       "       'full_speed_charge_duration', 'laxity'],\n",
       "      dtype='object')"
      ]
     },
     "execution_count": 24,
     "metadata": {},
     "output_type": "execute_result"
    }
   ],
   "source": [
    "parkings.columns"
   ]
  },
  {
   "cell_type": "code",
   "execution_count": 21,
   "metadata": {},
   "outputs": [
    {
     "data": {
      "image/png": "[encoded data removed]",
      "text/plain": [
       "<Figure size 720x360 with 1 Axes>"
      ]
     },
     "metadata": {},
     "output_type": "display_data"
    }
   ],
   "source": [
    "fig,ax = plt.subplots(figsize=(10,5))\n",
    "order_list = ['Business', 'Morning_short','Afternoon_short', 'Evening_short', 'Overnight', 'Long-term']\n",
    "sns.boxplot(y=\"laxity\", x=\"ClusterName\", data=parkings, ax=ax, order=order_list)\n",
    "ax.set_ylabel(\"Laxity [h]\",fontsize=16)\n",
    "ax.set_xlabel(\"Cluster\",fontsize=16)\n",
    "ax.set_xticklabels(['Business', 'Morning\\n (short)','Afternoon\\n (short)', 'Evening\\n (short)', 'Overnight', 'Long-term'])\n",
    "plt.tight_layout()\n",
    "plt.savefig(\"laxity_per_parker_type.pdf\")\n",
    "plt.show()"
   ]
  },
  {
   "cell_type": "code",
   "execution_count": 25,
   "metadata": {},
   "outputs": [
    {
     "data": {
      "text/plain": [
       "ClusterName\n",
       "Afternoon_short     9.747872\n",
       "Business           26.759430\n",
       "Evening_short       9.686040\n",
       "Long-term          35.148232\n",
       "Morning_short       8.618956\n",
       "Overnight          61.866374\n",
       "Name: final_kWhRequested_Coll_Filter, dtype: float64"
      ]
     },
     "execution_count": 25,
     "metadata": {},
     "output_type": "execute_result"
    }
   ],
   "source": [
    "parkings.groupby(\"ClusterName\")[\"final_kWhRequested_Coll_Filter\"].apply(lambda x: x.mean())"
   ]
  },
  {
   "cell_type": "code",
   "execution_count": 26,
   "metadata": {},
   "outputs": [
    {
     "data": {
      "text/plain": [
       "ClusterName\n",
       "Afternoon_short     9.985906\n",
       "Business           14.406180\n",
       "Evening_short      10.610388\n",
       "Long-term           4.387000\n",
       "Morning_short       9.190008\n",
       "Overnight          15.284213\n",
       "Name: final_kWhRequested_Coll_Filter, dtype: float64"
      ]
     },
     "execution_count": 26,
     "metadata": {},
     "output_type": "execute_result"
    }
   ],
   "source": [
    "parkings.groupby(\"ClusterName\")[\"final_kWhRequested_Coll_Filter\"].apply(lambda x: x.std())"
   ]
  },
  {
   "cell_type": "markdown",
   "metadata": {},
   "source": [
    "#### Travel Demand Appraoch"
   ]
  },
  {
   "cell_type": "markdown",
   "metadata": {},
   "source": [
    "Travel Demand Data"
   ]
  },
  {
   "cell_type": "code",
   "execution_count": 19,
   "metadata": {},
   "outputs": [],
   "source": [
    "data_path = \"/Volumes/karsten.schroer@uni-koeln.de/Uni/Research/04_CASE_Clustered_EV_Charging/Travel_Demand_Data/CA_data/data/\"\n",
    "\n",
    "travel_demand = pd.read_csv(data_path+\"CA_Travel_survey_trip.csv\")\n",
    "travel_demand = travel_demand[[\"sampno\",\"perno\",\"tripno\",\"trpmiles\",\"distance_mi\",\"trvlcmin\",\"trptrans17\"]]"
   ]
  },
  {
   "cell_type": "markdown",
   "metadata": {},
   "source": [
    "Limit to car trips only...\n",
    "\n",
    "__trptrans17:__ Trip Mode\n",
    "\n",
    "- 03: Car\n",
    "- 04: SUV\n",
    "- 06: Pickup Truck\n",
    "- 05: Van\n",
    "- (17: Taxi) --> do not consider\n",
    "- 18: Rental Car"
   ]
  },
  {
   "cell_type": "code",
   "execution_count": 20,
   "metadata": {},
   "outputs": [],
   "source": [
    "travel_demand_cars = travel_demand[travel_demand[\"trptrans17\"].isin([3,4,6,5,18])==True]"
   ]
  },
  {
   "cell_type": "markdown",
   "metadata": {},
   "source": [
    "group by sample (i.e., day)"
   ]
  },
  {
   "cell_type": "code",
   "execution_count": 21,
   "metadata": {},
   "outputs": [],
   "source": [
    "travel_demand_cars_grouped = travel_demand_cars.groupby(\"sampno\").sum()\n",
    "# remove unreasonably large numbers\n",
    "travel_demand_cars_grouped = travel_demand_cars_grouped[travel_demand_cars_grouped[\"distance_mi\"]<=travel_demand_cars_grouped[\"distance_mi\"].quantile(q=0.99)]\n",
    "# remove unreasonably small numbers (likely roundtrips)\n",
    "travel_demand_cars_grouped = travel_demand_cars_grouped[travel_demand_cars_grouped[\"distance_mi\"]>0.2]"
   ]
  },
  {
   "cell_type": "code",
   "execution_count": 22,
   "metadata": {},
   "outputs": [
    {
     "data": {
      "text/plain": [
       "<matplotlib.axes._subplots.AxesSubplot at 0x7fea71209e80>"
      ]
     },
     "execution_count": 22,
     "metadata": {},
     "output_type": "execute_result"
    },
    {
     "data": {
      "image/png": "[encoded data removed]",
      "text/plain": [
       "<Figure size 432x288 with 1 Axes>"
      ]
     },
     "metadata": {
      "needs_background": "light"
     },
     "output_type": "display_data"
    }
   ],
   "source": [
    "sns.distplot(travel_demand_cars_grouped[\"distance_mi\"])"
   ]
  },
  {
   "cell_type": "code",
   "execution_count": 23,
   "metadata": {},
   "outputs": [],
   "source": [
    "def generate_daily_distance_traveled(df, travel_demand_path = data_path+\"CA_Travel_survey_trip.csv\",location=\"US\", seed=42):\n",
    "    \n",
    "    us_mean_km = 25.9 * 1.60934 # https://tedb.ornl.gov/data/ Table 9.09\n",
    "    de_mean_km = (1051+1149)/2/30  #https://mobilitaetspanel.ifv.kit.edu/english/downloads.php; 2019 vehicle miles\n",
    "    \n",
    "    #assume exponential distribution\n",
    "    # It can be shown for the exponential distribution that the mean is equal to the standard deviation; i.e., μ = σ = 1/λ\n",
    "    \n",
    "    rng = default_rng(seed=seed)\n",
    "    \n",
    "    if location ==\"US\":\n",
    "        \n",
    "        #get data and prepare\n",
    "        travel_demand = pd.read_csv(travel_demand_path)\n",
    "        travel_demand = travel_demand[[\"sampno\",\"perno\",\"tripno\",\"trpmiles\",\"distance_mi\",\"trvlcmin\",\"trptrans17\"]]\n",
    "        #limit to relevant transport modes only\n",
    "        travel_demand_cars = travel_demand[travel_demand[\"trptrans17\"].isin([3,4,6,5,18])==True]\n",
    "        # group by sample and process\n",
    "        travel_demand_cars_grouped = travel_demand_cars.groupby(\"sampno\").sum()\n",
    "        # remove unreasonably large numbers\n",
    "        travel_demand_cars_grouped = travel_demand_cars_grouped[travel_demand_cars_grouped[\"distance_mi\"]<=travel_demand_cars_grouped[\"distance_mi\"].quantile(q=0.99)]\n",
    "        # remove unreasonably small numbers (likely roundtrips)\n",
    "        travel_demand_cars_grouped = travel_demand_cars_grouped[travel_demand_cars_grouped[\"distance_mi\"]>0.2]\n",
    "        \n",
    "        #sample randomly with repalcement (need to fit an empirical distribution here!)\n",
    "        distances = travel_demand_cars_grouped.sample(n=len(df),replace=True,random_state=seed)\n",
    "        distances = distances[\"distance_mi\"]* 1.60934\n",
    "        distances = np.array(distances)\n",
    "        \n",
    "        #distances = rng.exponential(us_mean_km, size=len(df))\n",
    "    \n",
    "    elif location == \"DE\":\n",
    "        distances = rng.exponential(de_mean_km, size=len(df))\n",
    "        \n",
    "    df[\"daily_travel_km\"] = distances\n",
    "    \n",
    "    return df"
   ]
  },
  {
   "cell_type": "code",
   "execution_count": 24,
   "metadata": {},
   "outputs": [],
   "source": [
    "def generate_home_charging_opportunity(df, home_charging_share, seed=42):\n",
    "    #Brenoulli Process that assigns home charging with probability p(HomeCharging) = home_charging_share\n",
    "    \n",
    "    rng = default_rng(seed=seed)\n",
    "    \n",
    "    home_charging_array = rng.choice([0, 1], p=[1 - home_charging_share, home_charging_share], size=len(df))\n",
    "    \n",
    "    df[\"home_charging_yn\"] = home_charging_array\n",
    "    \n",
    "    return df"
   ]
  },
  {
   "cell_type": "code",
   "execution_count": 25,
   "metadata": {},
   "outputs": [],
   "source": [
    "def generate_energy_demand_travel_based_approach(df,ev_share=0.5,min_stay_minutes=20,home_charging_share=0.8,\n",
    "                                                 max_charge_rate=22,\n",
    "                                                 location=\"US\",seed=42):\n",
    "    df = sample_electric_vehicles(df, ev_share=ev_share, seed=seed)\n",
    "    df = sample_charge_request_yn(df,min_stay_minutes=min_stay_minutes)\n",
    "    df = generate_daily_distance_traveled(df, location=location, seed=seed)\n",
    "    df = generate_home_charging_opportunity(df, home_charging_share=home_charging_share, seed=seed)\n",
    "    \n",
    "    # energy per km\n",
    "    kWh_per_km = 18.5/100 #Tesal Model S75\n",
    "    kWh_per_km = round(0.2306631886256587,3) # mean of ACN sample\n",
    "    \n",
    "    # base charging demand'\n",
    "    df[\"final_kWhRequested_travel_demand\"] = df.apply(lambda x: x.daily_travel_km*kWh_per_km if x.request_charge_yn==1 and x.EV_yn==1 else 0, axis=1)                  \n",
    "    \n",
    "    # charging energy (if home charging = yes, divide by 2)\n",
    "    #df[\"final_kWhRequested_travel_demand\"] = df.apply(lambda x: x.final_kWhRequested_travel_demand/2 if x.home_charging_yn==1 else x.final_kWhRequested_travel_demand, axis=1)                                     \n",
    "    \n",
    "    # ensure realistic charge request (i.e., fulfillment physically possible at max charge rate)\n",
    "    df[\"final_kWhRequested_travel_demand\"] = df.apply(lambda x: x.MinutesStay/60*max_charge_rate if x.final_kWhRequested_travel_demand>=x.MinutesStay/60*max_charge_rate\n",
    "                                                    else x.final_kWhRequested_travel_demand, axis=1)\n",
    "    \n",
    "    max_battery_size = 100  # kWh\n",
    "    df[\"final_kWhRequested_travel_demand\"] = df[\"final_kWhRequested_travel_demand\"].apply(lambda x: max_battery_size if x > max_battery_size else x)\n",
    "\n",
    "    #round\n",
    "    df[\"final_kWhRequested_travel_demand\"] = df[\"final_kWhRequested_travel_demand\"].apply(lambda x: round(x,ndigits=2))\n",
    "    \n",
    "    return df"
   ]
  },
  {
   "cell_type": "code",
   "execution_count": 26,
   "metadata": {},
   "outputs": [],
   "source": [
    "parkings = generate_energy_demand_travel_based_approach(df=parkings,ev_share=0.25,min_stay_minutes=20,home_charging_share=0.8,max_charge_rate=22,location=\"US\",seed=42)"
   ]
  },
  {
   "cell_type": "code",
   "execution_count": 27,
   "metadata": {},
   "outputs": [
    {
     "data": {
      "text/plain": [
       "<matplotlib.axes._subplots.AxesSubplot at 0x7fea68190780>"
      ]
     },
     "execution_count": 27,
     "metadata": {},
     "output_type": "execute_result"
    },
    {
     "data": {
      "image/png": "[encoded data removed]",
      "text/plain": [
       "<Figure size 1152x648 with 1 Axes>"
      ]
     },
     "metadata": {
      "needs_background": "light"
     },
     "output_type": "display_data"
    }
   ],
   "source": [
    "fig,ax = plt.subplots(figsize=(16,9))\n",
    "\n",
    "sns.distplot(parkings[parkings[\"request_charge_yn\"]==1][\"final_kWhRequested_Coll_Filter\"],ax=ax)\n",
    "sns.distplot(parkings[parkings[\"request_charge_yn\"]==1][\"final_kWhRequested_travel_demand\"],ax=ax,color=\"red\")\n",
    "\n",
    "#sns.distplot(parkings[\"final_kWhRequested_Coll_Filter\"],ax=ax)\n",
    "#sns.distplot(parkings[\"final_kWhRequested_travel_demand\"],ax=ax,color=\"red\")"
   ]
  },
  {
   "cell_type": "code",
   "execution_count": 28,
   "metadata": {},
   "outputs": [
    {
     "data": {
      "text/plain": [
       "26.456013904982623"
      ]
     },
     "execution_count": 28,
     "metadata": {},
     "output_type": "execute_result"
    }
   ],
   "source": [
    "parkings[parkings[\"request_charge_yn\"]==1][\"final_kWhRequested_Coll_Filter\"].mean()"
   ]
  },
  {
   "cell_type": "code",
   "execution_count": 30,
   "metadata": {},
   "outputs": [
    {
     "data": {
      "text/plain": [
       "17.191780570665586"
      ]
     },
     "execution_count": 30,
     "metadata": {},
     "output_type": "execute_result"
    }
   ],
   "source": [
    "parkings[parkings[\"request_charge_yn\"]==1][\"final_kWhRequested_Coll_Filter\"].std()"
   ]
  },
  {
   "cell_type": "code",
   "execution_count": 29,
   "metadata": {},
   "outputs": [
    {
     "data": {
      "text/plain": [
       "19.32494785631518"
      ]
     },
     "execution_count": 29,
     "metadata": {},
     "output_type": "execute_result"
    }
   ],
   "source": [
    "parkings[parkings[\"request_charge_yn\"]==1][\"final_kWhRequested_travel_demand\"].mean()"
   ]
  },
  {
   "cell_type": "code",
   "execution_count": 31,
   "metadata": {},
   "outputs": [
    {
     "data": {
      "text/plain": [
       "20.278473420859626"
      ]
     },
     "execution_count": 31,
     "metadata": {},
     "output_type": "execute_result"
    }
   ],
   "source": [
    "parkings[parkings[\"request_charge_yn\"]==1][\"final_kWhRequested_travel_demand\"].std()"
   ]
  },
  {
   "cell_type": "markdown",
   "metadata": {},
   "source": [
    "---"
   ]
  },
  {
   "cell_type": "code",
   "execution_count": null,
   "metadata": {},
   "outputs": [],
   "source": []
  }
 ],
 "metadata": {
  "kernelspec": {
   "display_name": "Python 3 (ipykernel)",
   "language": "python",
   "name": "python3"
  },
  "language_info": {
   "codemirror_mode": {
    "name": "ipython",
    "version": 3
   },
   "file_extension": ".py",
   "mimetype": "text/x-python",
   "name": "python",
   "nbconvert_exporter": "python",
   "pygments_lexer": "ipython3",
   "version": "3.7.1"
  },
  "pycharm": {
   "stem_cell": {
    "cell_type": "raw",
    "metadata": {
     "collapsed": false
    },
    "source": []
   }
  }
 },
 "nbformat": 4,
 "nbformat_minor": 4
}
