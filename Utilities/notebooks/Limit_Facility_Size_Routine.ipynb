{
 "cells": [
  {
   "cell_type": "markdown",
   "metadata": {},
   "source": [
    "## Quick check of whether sampling request up to capacity works..."
   ]
  },
  {
   "cell_type": "code",
   "execution_count": 394,
   "metadata": {},
   "outputs": [],
   "source": [
    "import pandas as pd\n",
    "import matplotlib.pyplot as plt\n",
    "import numpy as np"
   ]
  },
  {
   "cell_type": "code",
   "execution_count": 395,
   "metadata": {},
   "outputs": [],
   "source": [
    "path = \"../raw_output/Samples/requests_sample_Facility_3_size_limit_100.csv\""
   ]
  },
  {
   "cell_type": "code",
   "execution_count": 396,
   "metadata": {},
   "outputs": [],
   "source": [
    "requests = pd.read_csv(path)"
   ]
  },
  {
   "cell_type": "code",
   "execution_count": 397,
   "metadata": {},
   "outputs": [
    {
     "data": {
      "text/plain": [
       "Index(['Unnamed: 0', 'index', 'EntryDateTime', 'ExitDateTime', 'HoursStay',\n",
       "       'MinutesStay', 'RevenueAmount', 'SiteID', 'Year', 'EntryDate',\n",
       "       'DayType', 'ExitDate', 'EntryHour', 'ExitHour', 'EntryDayOfWeek',\n",
       "       'EntryWeekday_yn', 'EntryHoliday_yn', 'userInputs_kWhPerkm',\n",
       "       'userInputs_kWhRequested', 'userInputs_kmRequested',\n",
       "       'MaxFeasible_kwhRequested', 'final_kWhRequested', 'ClusterNum',\n",
       "       'ClusterName', 'FacilityType', 'EV_yn', 'request_charge_yn',\n",
       "       'home_charging_yn', 'BatterySize', 'final_kWhRequested_Coll_Filter',\n",
       "       'daily_travel_km', 'final_kWhRequested_travel_demand',\n",
       "       'final_kWhRequested_updated', 'StayDuration', 'StayDurationMinutes'],\n",
       "      dtype='object')"
      ]
     },
     "execution_count": 397,
     "metadata": {},
     "output_type": "execute_result"
    }
   ],
   "source": [
    "requests.sample()"
   ]
  },
  {
   "cell_type": "code",
   "execution_count": 398,
   "metadata": {},
   "outputs": [],
   "source": [
    "requests_day = requests[requests[\"EntryDate\"]=='2019-01-07']"
   ]
  },
  {
   "cell_type": "code",
   "execution_count": 399,
   "metadata": {},
   "outputs": [],
   "source": [
    "# HELPERS\n",
    "def round_down_to_base (num,base):\n",
    "    return num - (num%base)\n",
    "\n",
    "def minutes_from_midnight(dt):\n",
    "    mfm = dt.hour * 60 + dt.minute\n",
    "    return mfm"
   ]
  },
  {
   "cell_type": "code",
   "execution_count": 400,
   "metadata": {},
   "outputs": [],
   "source": [
    "def sample_proportionately(df, n,groups):\n",
    "    \n",
    "    #ratios in original df\n",
    "    ratios = df.groupby(groups).agg({\"EntryDateTime\":\"count\"})\n",
    "    ratios.rename(columns={\"EntryDateTime\":\"N\"},inplace=True)\n",
    "    ratios[\"frac\"] = ratios[\"N\"]/len(df)\n",
    "\n",
    "    df_sampled=pd.DataFrame()\n",
    "    for group in df[groups].unique():\n",
    "        #print(group, ratios.loc[group,\"frac\"],round(ratios.loc[group,\"frac\"]*n))\n",
    "        sample=df[df[groups]==group].sample(n=round(ratios.loc[group,\"frac\"]*n),replace=False)\n",
    "        df_sampled = df_sampled.append(sample)\n",
    "        \n",
    "    return df_sampled"
   ]
  },
  {
   "cell_type": "code",
   "execution_count": 401,
   "metadata": {},
   "outputs": [],
   "source": [
    "def get_scaled_true_occupancy(requests_df,agg_level=5):\n",
    "    \"\"\"\n",
    "    calculates occupancy from requests\n",
    "    :param requests_df:\n",
    "    :param agg_level:\n",
    "    :return:\n",
    "    \"\"\"\n",
    "    \n",
    "    dict_rename={\"EntryDateTime\":\"arrival_time\",\"ExitDateTime\":\"departure_time\",\"EV_yn\":\"ev_yn\",\n",
    "                 \"SiteID\":\"facility\",\"ClusterName\":\"user_type\",\"index\":\"vehicle_id\"}\n",
    "    \n",
    "    requests_df = requests_df.rename(columns=dict_rename)\n",
    "\n",
    "    # settings\n",
    "    agg_level = agg_level #minutes\n",
    "\n",
    "    # set entry/exit time to target res\n",
    "    requests_df[\"arrival_time\"] = pd.to_datetime(requests_df[\"arrival_time\"])\n",
    "    requests_df[\"departure_time\"] = pd.to_datetime(requests_df[\"departure_time\"])\n",
    "    requests_df[\"arrival_time\"] = requests_df[\"arrival_time\"].apply(lambda x: x.replace(second=0, minute=round_down_to_base(x.minute,agg_level)))\n",
    "    requests_df[\"departure_time\"] = requests_df[\"departure_time\"].apply(lambda x: x.replace(second=0, minute=round_down_to_base(x.minute,agg_level)))#.apply(lambda x: x.replace(second=0, microsecond=0))\n",
    "\n",
    "    # count entries and exits per time period in separate df\n",
    "    entry_counts = requests_df.groupby([\"facility\",\"arrival_time\"],as_index=False).agg({\"vehicle_id\":\"count\"})\n",
    "    entry_counts.columns=[\"facility\",\"time\",\"entry_counts\"]\n",
    "    entry_counts[\"key\"] = entry_counts.apply(lambda x: \"{}_{}\".format(x.facility,x.time),axis=1)\n",
    "\n",
    "    exit_counts = requests_df.groupby([\"facility\",\"departure_time\"],as_index=False).agg({\"vehicle_id\":\"count\"})\n",
    "    exit_counts.columns=[\"facility\",\"time\",\"exit_counts\"]\n",
    "    exit_counts[\"key\"] = exit_counts.apply(lambda x: \"{}_{}\".format(x.facility,x.time),axis=1)\n",
    "\n",
    "    # compute target index\n",
    "    target_index = pd.DataFrame()\n",
    "    #requests_df[\"arrival_time\"] = requests_df[\"arrival_time\"].apply(lambda x: x.replace(second=0))\n",
    "    #requests_df[\"departure_time\"] = requests_df[\"arrival_time\"].apply(lambda x: x.replace(second=0))\n",
    "    for facility in requests_df[\"facility\"].unique():\n",
    "        out=pd.DataFrame()\n",
    "        out[\"time\"]= pd.date_range(start=pd.to_datetime(requests[\"EntryDate\"].unique()[0]), end=pd.to_datetime(requests[\"EntryDate\"].unique()[-1]) + datetime.timedelta(hours=23,minutes=59),freq=\"{}S\".format(agg_level*60))\n",
    "        out[\"facility\"] = facility\n",
    "        out[\"key\"] = out.apply(lambda x: \"{}_{}\".format(x.facility,x.time),axis=1)\n",
    "\n",
    "        #print(facility,cluster)\n",
    "        target_index = target_index.append(out)\n",
    "\n",
    "    # merge into occupancy df\n",
    "    occupancy_df = target_index.merge(entry_counts[[\"key\",\"entry_counts\"]],on=\"key\",how=\"left\")\n",
    "    occupancy_df = occupancy_df.merge(exit_counts[[\"key\",\"exit_counts\"]],on=\"key\",how=\"left\")\n",
    "    occupancy_df.fillna(0, inplace=True) # fill periods with no entries/exits\n",
    "    occupancy_df[\"net_occupancy_change\"] = occupancy_df[\"entry_counts\"] - occupancy_df[\"exit_counts\"] # get net occupancy change\n",
    "\n",
    "    # compute occupancy per facility, user type, ev\n",
    "    occupancy_final = pd.DataFrame()\n",
    "\n",
    "    for facility in occupancy_df[\"facility\"].unique():\n",
    "        out_df = occupancy_df[(occupancy_df[\"facility\"] == facility)]\n",
    "        out_df.sort_values(by=\"time\", inplace=True, ascending=True)\n",
    "        out_df[\"total_occupancy\"] = out_df[\"net_occupancy_change\"].cumsum()\n",
    "        occupancy_final = occupancy_final.append(out_df)\n",
    "\n",
    "    #times\n",
    "    occupancy_final[\"date\"] = occupancy_final[\"time\"].apply(lambda x: x.date())\n",
    "    occupancy_final[\"hour\"] = occupancy_final[\"time\"].apply(lambda x: x.hour)\n",
    "    occupancy_final[\"minutes_from_midnight\"] = occupancy_final[\"time\"].apply(lambda x: minutes_from_midnight(x))\n",
    "    \n",
    "    \n",
    "    occupancy_norm = occupancy_final.groupby(\"date\").agg({\"total_occupancy\":\"max\"})\n",
    "    \n",
    "    max_occ = occupancy_norm[\"total_occupancy\"].max()\n",
    "    occupancy_norm[\"scaled_max_occ\"] = occupancy_norm[\"total_occupancy\"].apply(lambda x: (x)/max_occ)\n",
    "    \n",
    "    return occupancy_norm"
   ]
  },
  {
   "cell_type": "code",
   "execution_count": 402,
   "metadata": {},
   "outputs": [],
   "source": [
    "#out_norm= get_scaled_true_occupancy(requests_df = requests)"
   ]
  },
  {
   "cell_type": "code",
   "execution_count": 422,
   "metadata": {},
   "outputs": [],
   "source": [
    "def sample_up_to_capacity_inc_proportionality_seasonality(df,capa=50,margin=0.0015,temp_res=5):\n",
    "    \n",
    "    scaled_occ = get_scaled_true_occupancy(df,agg_level=5)\n",
    "    \n",
    "    df[\"EntryDateTime\"] = pd.to_datetime(df[\"EntryDateTime\"])\n",
    "    df[\"EntryDate\"] = df[\"EntryDateTime\"].apply(lambda x: x.date())\n",
    "    df[\"ExitDateTime\"]= pd.to_datetime(df[\"ExitDateTime\"])\n",
    "    df[\"ExitDate\"] = df[\"ExitDateTime\"].apply(lambda x: x.date())\n",
    "    df[\"EntryDateTime{}min\".format(temp_res)] = df[\"EntryDateTime\"].apply(lambda x: x.replace(second=0, minute=round_down_to_base(x.minute, temp_res)))\n",
    "    df[\"ExitDateTime{}min\".format(temp_res)] = df[\"ExitDateTime\"].apply(lambda x: x.replace(second=0, minute=round_down_to_base(x.minute, temp_res)))\n",
    "    \n",
    "    output_reqs_df=pd.DataFrame()\n",
    "    \n",
    "    for facility in df[\"SiteID\"].unique():\n",
    "        \n",
    "        df_fac = df[df[\"SiteID\"]==facility]\n",
    "        \n",
    "        full_period_sample = pd.DataFrame()\n",
    "        full_period_occupancy = pd.DataFrame()\n",
    "        request_carried_over = pd.DataFrame()\n",
    "        occupancy_carried_over = len(request_carried_over)\n",
    "    \n",
    "        for day in df_fac[\"EntryDate\"].unique():\n",
    "\n",
    "            print(day,\"started\")\n",
    "            print(occupancy_carried_over,\"vehicles carried over from pervious days\")\n",
    "\n",
    "            #prep day df\n",
    "            df_day = df_fac[df_fac[\"EntryDate\"]==day]\n",
    "            df_day = df_day.append(request_carried_over) #append request that remain in hub from previous day\n",
    "\n",
    "\n",
    "            max_daily_occ =0\n",
    "            capa_day = round(capa*scaled_occ.loc[day,\"scaled_max_occ\"])\n",
    "            n_events=round(capa_day*2.5) #start with same events every day\n",
    "\n",
    "            while True:#max_daily_occ <= (round(capa + (margin * capa))):\n",
    "\n",
    "                #sample events\n",
    "                sample = sample_proportionately(df_day, n=n_events, groups=\"ClusterName\")\n",
    "                #print(\"sample size:\",len(sample))\n",
    "                sample = sample.append(request_carried_over) #add requests that were carries over\n",
    "\n",
    "                #get entry counts\n",
    "                entry_counts = sample[[\"EntryDateTime{}min\".format(temp_res),\"EntryDate\"]].groupby([\"EntryDateTime{}min\".format(temp_res)]).count()\n",
    "                entry_counts.reset_index(inplace=True)\n",
    "                entry_counts.columns=[\"DateTime{}min\".format(temp_res), \"EntryCounts\"]\n",
    "                #print(\"Entry Counts\", entry_counts[\"EntryCounts\"].sum())\n",
    "\n",
    "                #get exit counts (incl. vehicles that entered day(s) before)\n",
    "                exit_counts = sample[[\"ExitDateTime{}min\".format(temp_res),\"EntryDate\"]].groupby([\"ExitDateTime{}min\".format(temp_res)]).count()\n",
    "                exit_counts.reset_index(inplace=True)\n",
    "                exit_counts.columns = [\"DateTime{}min\".format(temp_res), \"ExitCounts\"]\n",
    "                #print(\"Exit Counts\", exit_counts[\"ExitCounts\"].sum())\n",
    "\n",
    "                ## compute target index\n",
    "                target_index = pd.DataFrame()\n",
    "                target_index[\"DateTime{}min\".format(temp_res)] = pd.date_range(start=sample[\"EntryDateTime{}min\".format(temp_res)].min(),\n",
    "                    end=pd.to_datetime(day)+datetime.timedelta(hours=23,minutes=59),freq=\"{}S\".format(temp_res * 60))\n",
    "\n",
    "                #merge\n",
    "                occupancy = target_index.merge(entry_counts, on=\"DateTime{}min\".format(temp_res), how=\"left\")\n",
    "                occupancy = occupancy.merge(exit_counts, on=\"DateTime{}min\".format(temp_res), how=\"left\")\n",
    "\n",
    "                #compute occupancy\n",
    "                occupancy.fillna(0, inplace=True)\n",
    "                #occupancy.loc[0,\"EntryCounts\"] = occupancy.loc[0,\"EntryCounts\"]+occupancy_carried_over\n",
    "                occupancy[\"NetOccupancyChange\"] = occupancy[\"EntryCounts\"] - occupancy[\"ExitCounts\"]\n",
    "                occupancy[\"TotalOccupancy\"] = occupancy[\"NetOccupancyChange\"].cumsum()  # gets cumulative sum of occupancy change!\n",
    "\n",
    "                #limit to day in question\n",
    "                start=pd.to_datetime(day)\n",
    "                end=pd.to_datetime(day)+datetime.timedelta(hours=23,minutes=59)\n",
    "                occupancy = occupancy[(occupancy[\"DateTime{}min\".format(temp_res)]>=start)&(occupancy[\"DateTime{}min\".format(temp_res)]<=end)]\n",
    "\n",
    "                max_daily_occ = max(occupancy[\"TotalOccupancy\"])\n",
    "\n",
    "                #print(\"Max occupancy\",max_daily_occ,\"reached at num events:\",n_events)\n",
    "                if max_daily_occ == capa_day:\n",
    "                    print(\"Facility {}; Day {}: max occupancy ({}) within margin (target: {}) at {} parking events\".format(facility, day , max_daily_occ,capa_day,n_events))\n",
    "                    break  # break loop if within margin\n",
    "                elif np.absolute(max_daily_occ - capa_day) <= round(margin * capa_day):\n",
    "                    print(\"Facility {}; Day {}: max occupancy ({})  within margin (target: {}) at {} parking events\".format(facility, day, max_daily_occ,capa_day,n_events))\n",
    "                    break  # break loop if within margin\n",
    "                elif max_daily_occ > capa_day: #round(capa + (margin * capa)):\n",
    "                    if n_events > 0: #ensure we do not get negative event count!\n",
    "                        n_events += (-1)  # reduce event counts if above max_occupancy + margin\n",
    "                    else:\n",
    "                        print(\"Warning! No samples taken for this day!\")\n",
    "                        break\n",
    "                elif max_daily_occ < capa_day: #round(capa + (margin * capa)):\n",
    "                    n_events += 1  # increase event counts if below max_occupancy\n",
    "                    \n",
    "            final_day_sample = sample\n",
    "            request_carried_over = final_day_sample[final_day_sample[\"ExitDate\"]>day]\n",
    "            request_carried_over.drop(columns=[\"ExitDate\"])\n",
    "            occupancy_carried_over = len(request_carried_over)\n",
    "\n",
    "            full_period_sample = full_period_sample.append(final_day_sample)\n",
    "            full_period_occupancy = full_period_occupancy.append(occupancy)\n",
    "            \n",
    "        output_reqs_df = output_reqs_df.append(full_period_sample)\n",
    "        output_reqs_df.sort_values(by=[\"SiteID\",\"EntryDateTime\"],inplace=True)\n",
    "    \n",
    "    return output_reqs_df\n",
    "    "
   ]
  },
  {
   "cell_type": "code",
   "execution_count": 423,
   "metadata": {},
   "outputs": [],
   "source": [
    "#requests[\"EntryDateTime\"]"
   ]
  },
  {
   "cell_type": "code",
   "execution_count": 424,
   "metadata": {},
   "outputs": [
    {
     "name": "stdout",
     "output_type": "stream",
     "text": [
      "2019-01-01 started\n",
      "0 vehicles carried over from pervious days\n",
      "Facility Facility_3; Day 2019-01-01: max occupancy (49.0)  within margin (target: 50) at 140 parking events\n",
      "2019-01-02 started\n",
      "46 vehicles carried over from pervious days\n",
      "Facility Facility_3; Day 2019-01-02: max occupancy (51.0)  within margin (target: 50) at 35 parking events\n",
      "2019-01-03 started\n",
      "13 vehicles carried over from pervious days\n",
      "Facility Facility_3; Day 2019-01-03: max occupancy (30.0)  within margin (target: 31) at 78 parking events\n",
      "2019-01-04 started\n",
      "12 vehicles carried over from pervious days\n",
      "Facility Facility_3; Day 2019-01-04: max occupancy (28.0) within margin (target: 28) at 70 parking events\n",
      "2019-01-05 started\n",
      "11 vehicles carried over from pervious days\n",
      "Facility Facility_3; Day 2019-01-05: max occupancy (43.0) within margin (target: 43) at 108 parking events\n",
      "2019-01-06 started\n",
      "34 vehicles carried over from pervious days\n",
      "Facility Facility_3; Day 2019-01-06: max occupancy (50.0)  within margin (target: 49) at 90 parking events\n",
      "2019-01-07 started\n",
      "49 vehicles carried over from pervious days\n",
      "Warning! No samples taken for this day!\n",
      "2019-01-08 started\n",
      "5 vehicles carried over from pervious days\n",
      "Facility Facility_3; Day 2019-01-08: max occupancy (32.0)  within margin (target: 31) at 81 parking events\n",
      "2019-01-09 started\n",
      "19 vehicles carried over from pervious days\n",
      "Facility Facility_3; Day 2019-01-09: max occupancy (32.0)  within margin (target: 31) at 76 parking events\n",
      "2019-01-10 started\n",
      "11 vehicles carried over from pervious days\n",
      "Facility Facility_3; Day 2019-01-10: max occupancy (28.0) within margin (target: 28) at 61 parking events\n"
     ]
    }
   ],
   "source": [
    "reqs = sample_up_to_capacity(df=requests,capa=50,margin=0.02,temp_res=5)"
   ]
  },
  {
   "cell_type": "code",
   "execution_count": 421,
   "metadata": {},
   "outputs": [
    {
     "data": {
      "text/plain": [
       "935"
      ]
     },
     "execution_count": 421,
     "metadata": {},
     "output_type": "execute_result"
    }
   ],
   "source": [
    "len(reqs)"
   ]
  },
  {
   "cell_type": "code",
   "execution_count": 411,
   "metadata": {},
   "outputs": [
    {
     "data": {
      "text/plain": [
       "[<matplotlib.lines.Line2D at 0x7fb829eafb00>]"
      ]
     },
     "execution_count": 411,
     "metadata": {},
     "output_type": "execute_result"
    },
    {
     "data": {
      "image/png": "[encoded data removed]",
      "text/plain": [
       "<Figure size 1440x576 with 1 Axes>"
      ]
     },
     "metadata": {
      "needs_background": "light"
     },
     "output_type": "display_data"
    }
   ],
   "source": [
    "fig,ax = plt.subplots(figsize=(20,8))\n",
    "ax.plot(occ[\"DateTime5min\"],occ[\"TotalOccupancy\"])"
   ]
  },
  {
   "cell_type": "code",
   "execution_count": 265,
   "metadata": {},
   "outputs": [],
   "source": [
    "#est[test[\"ExitDate\"]>pd.to_datetime(\"2019-01-02\")]"
   ]
  },
  {
   "cell_type": "code",
   "execution_count": 107,
   "metadata": {},
   "outputs": [
    {
     "data": {
      "text/plain": [
       "datetime.timedelta(seconds=86340)"
      ]
     },
     "execution_count": 107,
     "metadata": {},
     "output_type": "execute_result"
    }
   ],
   "source": [
    "datetime.timedelta(hours=23,minutes=59)"
   ]
  },
  {
   "cell_type": "code",
   "execution_count": 92,
   "metadata": {},
   "outputs": [
    {
     "data": {
      "text/plain": [
       "7"
      ]
     },
     "execution_count": 92,
     "metadata": {},
     "output_type": "execute_result"
    }
   ],
   "source": [
    "len(sample)"
   ]
  },
  {
   "cell_type": "code",
   "execution_count": 20,
   "metadata": {},
   "outputs": [
    {
     "data": {
      "text/plain": [
       "Index(['Unnamed: 0', 'index', 'EntryDateTime', 'ExitDateTime', 'HoursStay',\n",
       "       'MinutesStay', 'RevenueAmount', 'SiteID', 'Year', 'EntryDate',\n",
       "       'DayType', 'ExitDate', 'EntryHour', 'ExitHour', 'EntryDayOfWeek',\n",
       "       'EntryWeekday_yn', 'EntryHoliday_yn', 'userInputs_kWhPerkm',\n",
       "       'userInputs_kWhRequested', 'userInputs_kmRequested',\n",
       "       'MaxFeasible_kwhRequested', 'final_kWhRequested', 'ClusterNum',\n",
       "       'ClusterName', 'FacilityType', 'EV_yn', 'request_charge_yn',\n",
       "       'home_charging_yn', 'BatterySize', 'final_kWhRequested_Coll_Filter',\n",
       "       'daily_travel_km', 'final_kWhRequested_travel_demand',\n",
       "       'final_kWhRequested_updated', 'StayDuration', 'StayDurationMinutes'],\n",
       "      dtype='object')"
      ]
     },
     "execution_count": 20,
     "metadata": {},
     "output_type": "execute_result"
    }
   ],
   "source": [
    "requests.columns"
   ]
  },
  {
   "cell_type": "code",
   "execution_count": 284,
   "metadata": {},
   "outputs": [],
   "source": []
  },
  {
   "cell_type": "code",
   "execution_count": 117,
   "metadata": {},
   "outputs": [],
   "source": [
    "def get_occupancy(requests_df,agg_level=5):\n",
    "    \"\"\"\n",
    "    calculates occupancy from requests\n",
    "    :param requests_df:\n",
    "    :param agg_level:\n",
    "    :return:\n",
    "    \"\"\"\n",
    "    \n",
    "    dict_rename={\"EntryDateTime\":\"arrival_time\",\"ExitDateTime\":\"departure_time\",\"EV_yn\":\"ev_yn\",\n",
    "                 \"SiteID\":\"facility\",\"ClusterName\":\"user_type\",\"index\":\"vehicle_id\"}\n",
    "    \n",
    "    requests_df.rename(columns=dict_rename,inplace=True)\n",
    "\n",
    "    # settings\n",
    "    agg_level = agg_level #minutes\n",
    "\n",
    "    # set entry/exit time to target res\n",
    "    requests_df[\"arrival_time\"] = pd.to_datetime(requests_df[\"arrival_time\"])\n",
    "    requests_df[\"departure_time\"] = pd.to_datetime(requests_df[\"departure_time\"])\n",
    "    requests_df[\"arrival_time\"] = requests_df[\"arrival_time\"].apply(lambda x: x.replace(second=0, minute=round_down_to_base(x.minute,agg_level)))\n",
    "    requests_df[\"departure_time\"] = requests_df[\"departure_time\"].apply(lambda x: x.replace(second=0, minute=round_down_to_base(x.minute,agg_level)))#.apply(lambda x: x.replace(second=0, microsecond=0))\n",
    "\n",
    "    # count entries and exits per time period in separate df\n",
    "    entry_counts = requests_df.groupby([\"facility\",\"ev_yn\",\"user_type\",\"arrival_time\"],as_index=False).agg({\"vehicle_id\":\"count\"})\n",
    "    entry_counts.columns=[\"facility\",\"ev_yn\",\"user_type\",\"time\",\"entry_counts\"]\n",
    "    entry_counts[\"key\"] = entry_counts.apply(lambda x: \"{}_{}_{}_{}\".format(x.facility,x.ev_yn,x.user_type,x.time),axis=1)\n",
    "\n",
    "    exit_counts = requests_df.groupby([\"facility\",\"ev_yn\",\"user_type\",\"departure_time\"],as_index=False).agg({\"vehicle_id\":\"count\"})\n",
    "    exit_counts.columns=[\"facility\",\"ev_yn\",\"user_type\",\"time\",\"exit_counts\"]\n",
    "    exit_counts[\"key\"] = exit_counts.apply(lambda x: \"{}_{}_{}_{}\".format(x.facility,x.ev_yn,x.user_type,x.time),axis=1)\n",
    "\n",
    "    # compute target index\n",
    "    target_index = pd.DataFrame()\n",
    "    #requests_df[\"arrival_time\"] = requests_df[\"arrival_time\"].apply(lambda x: x.replace(second=0))\n",
    "    #requests_df[\"departure_time\"] = requests_df[\"arrival_time\"].apply(lambda x: x.replace(second=0))\n",
    "    for facility in requests_df[\"facility\"].unique():\n",
    "        for ev in requests_df[\"ev_yn\"].unique():\n",
    "            for cluster in requests_df[\"user_type\"].unique():\n",
    "                out=pd.DataFrame()\n",
    "                out[\"time\"]= pd.date_range(start=requests_df[\"arrival_time\"].min(), end=requests_df[\"departure_time\"].max(),freq=\"{}S\".format(agg_level*60))\n",
    "                out[\"facility\"] = facility\n",
    "                out[\"ev_yn\"] = ev\n",
    "                out[\"user_type\"] = cluster\n",
    "                out[\"key\"] = out.apply(lambda x: \"{}_{}_{}_{}\".format(x.facility,x.ev_yn,x.user_type,x.time),axis=1)\n",
    "\n",
    "                #print(facility,cluster)\n",
    "                target_index = target_index.append(out)\n",
    "\n",
    "    # merge into occupancy df\n",
    "    occupancy_df = target_index.merge(entry_counts[[\"key\",\"entry_counts\"]],on=\"key\",how=\"left\")\n",
    "    occupancy_df = occupancy_df.merge(exit_counts[[\"key\",\"exit_counts\"]],on=\"key\",how=\"left\")\n",
    "    occupancy_df.fillna(0, inplace=True) # fill periods with no entries/exits\n",
    "    occupancy_df[\"net_occupancy_change\"] = occupancy_df[\"entry_counts\"] - occupancy_df[\"exit_counts\"] # get net occupancy change\n",
    "\n",
    "    # compute occupancy per facility, user type, ev\n",
    "    occupancy_final = pd.DataFrame()\n",
    "\n",
    "    for facility in occupancy_df[\"facility\"].unique():\n",
    "        for ev in occupancy_df[\"ev_yn\"].unique():\n",
    "            for cluster in occupancy_df[\"user_type\"].unique():\n",
    "                out_df = occupancy_df[(occupancy_df[\"facility\"] == facility) & (occupancy_df[\"ev_yn\"] == ev) &\n",
    "                                      (occupancy_df[\"user_type\"] == cluster)]\n",
    "\n",
    "                out_df.sort_values(by=\"time\", inplace=True, ascending=True)\n",
    "                out_df[\"total_occupancy\"] = out_df[\"net_occupancy_change\"].cumsum()\n",
    "\n",
    "                occupancy_final = occupancy_final.append(out_df)\n",
    "\n",
    "    #times\n",
    "    occupancy_final[\"date\"] = occupancy_final[\"time\"].apply(lambda x: x.date())\n",
    "    occupancy_final[\"hour\"] = occupancy_final[\"time\"].apply(lambda x: x.hour)\n",
    "    occupancy_final[\"minutes_from_midnight\"] = occupancy_final[\"time\"].apply(lambda x: minutes_from_midnight(x))\n",
    "\n",
    "    return occupancy_final\n"
   ]
  },
  {
   "cell_type": "code",
   "execution_count": 130,
   "metadata": {},
   "outputs": [
    {
     "name": "stderr",
     "output_type": "stream",
     "text": [
      "/Users/schroerk/miniconda3/lib/python3.7/site-packages/ipykernel_launcher.py:64: SettingWithCopyWarning: \n",
      "A value is trying to be set on a copy of a slice from a DataFrame\n",
      "\n",
      "See the caveats in the documentation: http://pandas.pydata.org/pandas-docs/stable/indexing.html#indexing-view-versus-copy\n",
      "/Users/schroerk/miniconda3/lib/python3.7/site-packages/ipykernel_launcher.py:65: SettingWithCopyWarning: \n",
      "A value is trying to be set on a copy of a slice from a DataFrame.\n",
      "Try using .loc[row_indexer,col_indexer] = value instead\n",
      "\n",
      "See the caveats in the documentation: http://pandas.pydata.org/pandas-docs/stable/indexing.html#indexing-view-versus-copy\n",
      "/Users/schroerk/miniconda3/lib/python3.7/site-packages/ipykernel_launcher.py:64: SettingWithCopyWarning: \n",
      "A value is trying to be set on a copy of a slice from a DataFrame\n",
      "\n",
      "See the caveats in the documentation: http://pandas.pydata.org/pandas-docs/stable/indexing.html#indexing-view-versus-copy\n",
      "/Users/schroerk/miniconda3/lib/python3.7/site-packages/ipykernel_launcher.py:65: SettingWithCopyWarning: \n",
      "A value is trying to be set on a copy of a slice from a DataFrame.\n",
      "Try using .loc[row_indexer,col_indexer] = value instead\n",
      "\n",
      "See the caveats in the documentation: http://pandas.pydata.org/pandas-docs/stable/indexing.html#indexing-view-versus-copy\n",
      "/Users/schroerk/miniconda3/lib/python3.7/site-packages/ipykernel_launcher.py:64: SettingWithCopyWarning: \n",
      "A value is trying to be set on a copy of a slice from a DataFrame\n",
      "\n",
      "See the caveats in the documentation: http://pandas.pydata.org/pandas-docs/stable/indexing.html#indexing-view-versus-copy\n",
      "/Users/schroerk/miniconda3/lib/python3.7/site-packages/ipykernel_launcher.py:65: SettingWithCopyWarning: \n",
      "A value is trying to be set on a copy of a slice from a DataFrame.\n",
      "Try using .loc[row_indexer,col_indexer] = value instead\n",
      "\n",
      "See the caveats in the documentation: http://pandas.pydata.org/pandas-docs/stable/indexing.html#indexing-view-versus-copy\n",
      "/Users/schroerk/miniconda3/lib/python3.7/site-packages/ipykernel_launcher.py:64: SettingWithCopyWarning: \n",
      "A value is trying to be set on a copy of a slice from a DataFrame\n",
      "\n",
      "See the caveats in the documentation: http://pandas.pydata.org/pandas-docs/stable/indexing.html#indexing-view-versus-copy\n",
      "/Users/schroerk/miniconda3/lib/python3.7/site-packages/ipykernel_launcher.py:65: SettingWithCopyWarning: \n",
      "A value is trying to be set on a copy of a slice from a DataFrame.\n",
      "Try using .loc[row_indexer,col_indexer] = value instead\n",
      "\n",
      "See the caveats in the documentation: http://pandas.pydata.org/pandas-docs/stable/indexing.html#indexing-view-versus-copy\n",
      "/Users/schroerk/miniconda3/lib/python3.7/site-packages/ipykernel_launcher.py:64: SettingWithCopyWarning: \n",
      "A value is trying to be set on a copy of a slice from a DataFrame\n",
      "\n",
      "See the caveats in the documentation: http://pandas.pydata.org/pandas-docs/stable/indexing.html#indexing-view-versus-copy\n",
      "/Users/schroerk/miniconda3/lib/python3.7/site-packages/ipykernel_launcher.py:65: SettingWithCopyWarning: \n",
      "A value is trying to be set on a copy of a slice from a DataFrame.\n",
      "Try using .loc[row_indexer,col_indexer] = value instead\n",
      "\n",
      "See the caveats in the documentation: http://pandas.pydata.org/pandas-docs/stable/indexing.html#indexing-view-versus-copy\n",
      "/Users/schroerk/miniconda3/lib/python3.7/site-packages/ipykernel_launcher.py:64: SettingWithCopyWarning: \n",
      "A value is trying to be set on a copy of a slice from a DataFrame\n",
      "\n",
      "See the caveats in the documentation: http://pandas.pydata.org/pandas-docs/stable/indexing.html#indexing-view-versus-copy\n",
      "/Users/schroerk/miniconda3/lib/python3.7/site-packages/ipykernel_launcher.py:65: SettingWithCopyWarning: \n",
      "A value is trying to be set on a copy of a slice from a DataFrame.\n",
      "Try using .loc[row_indexer,col_indexer] = value instead\n",
      "\n",
      "See the caveats in the documentation: http://pandas.pydata.org/pandas-docs/stable/indexing.html#indexing-view-versus-copy\n"
     ]
    }
   ],
   "source": [
    "occ = get_occupancy(out,agg_level=5)"
   ]
  },
  {
   "cell_type": "code",
   "execution_count": 131,
   "metadata": {},
   "outputs": [],
   "source": [
    "occ_agg = occ.groupby([\"time\",\"facility\"]).agg({\"entry_counts\":\"sum\",\"exit_counts\":\"sum\",\n",
    "                                      \"net_occupancy_change\":\"sum\",\"total_occupancy\":\"sum\"})"
   ]
  },
  {
   "cell_type": "code",
   "execution_count": 132,
   "metadata": {},
   "outputs": [],
   "source": [
    "occ_agg.reset_index(inplace=True)"
   ]
  },
  {
   "cell_type": "code",
   "execution_count": 133,
   "metadata": {},
   "outputs": [
    {
     "data": {
      "text/plain": [
       "293.0"
      ]
     },
     "execution_count": 133,
     "metadata": {},
     "output_type": "execute_result"
    }
   ],
   "source": [
    "occ_agg[\"total_occupancy\"].max()"
   ]
  },
  {
   "cell_type": "code",
   "execution_count": 134,
   "metadata": {},
   "outputs": [
    {
     "data": {
      "text/plain": [
       "[<matplotlib.lines.Line2D at 0x7fd35c947198>]"
      ]
     },
     "execution_count": 134,
     "metadata": {},
     "output_type": "execute_result"
    },
    {
     "data": {
      "image/png": "[encoded data removed]",
      "text/plain": [
       "<Figure size 432x288 with 1 Axes>"
      ]
     },
     "metadata": {
      "needs_background": "light"
     },
     "output_type": "display_data"
    }
   ],
   "source": [
    "plt.plot(occ_agg[\"total_occupancy\"])"
   ]
  },
  {
   "cell_type": "code",
   "execution_count": 127,
   "metadata": {},
   "outputs": [],
   "source": [
    "def sample_daily_requests_up_to_capacity(df, max_occupancy, temp_res=5, margin=0.005, replace=False, seed=42,\n",
    "                                         verbose=False):\n",
    "    \"\"\"\n",
    "    Function samples sufficient parking events up to the desired capacity for each facility and day contained in df\n",
    "    :param df: base df of parking events\n",
    "    :param facility_names: list of facilities (can only be 1)\n",
    "    :param max_occupancy: desired max. occupancy\n",
    "    :param temp_res: temporal resolution at which occupancy is computed (in minutes)\n",
    "    :param margin: margin (in %) on deviation from max occupancy\n",
    "    :param replace: sample with replacement?\n",
    "    :param seed: fix see or not for replication purposes\n",
    "    :return:\n",
    "    \"\"\"\n",
    "    if margin > 1 or margin < 0:\n",
    "        raise ValueError(\"Margin (%) must be in interval [0,1]!!!\")\n",
    "\n",
    "    # set entry/exit time to target res\n",
    "    df[\"arrival_time\"] = pd.to_datetime(df[\"arrival_time\"])\n",
    "    df[\"departure_time\"] = pd.to_datetime(df[\"departure_time\"])\n",
    "    temp_res = temp_res  # minutes!\n",
    "    df[\"EntryDateTime{}min\".format(temp_res)] = df[\"arrival_time\"].apply(lambda x: x.replace(second=0, minute=round_down_to_base(x.minute, temp_res)))\n",
    "    df[\"ExitDateTime{}min\".format(temp_res)] = df[\"departure_time\"].apply(lambda x: x.replace(second=0, minute=round_down_to_base(x.minute, temp_res)))\n",
    "\n",
    "    # per each facility and day sample events up to target occupation and collect\n",
    "\n",
    "    final_df = pd.DataFrame()\n",
    "    \n",
    "    for facility_name in df[\"facility\"].unique():\n",
    "\n",
    "        out_df = pd.DataFrame()\n",
    "        carry_over_events_df = pd.DataFrame() #initialize\n",
    "\n",
    "        for day in df[\"EntryDate\"].unique():\n",
    "\n",
    "            # select facility and day\n",
    "            day_df = df[(df[\"facility\"] == facility_name) & (df[\"EntryDate\"] == day)]\n",
    "\n",
    "            # sample events up to max_occupancy\n",
    "            event_count = round(max_occupancy)  # initialize to 2.5 the max occupancy (seems like a good value)\n",
    "\n",
    "            while True:\n",
    "                # sample n=event_count events\n",
    "                #print(event_count)\n",
    "                day_df_sampled = day_df.sample(n=event_count, replace=replace, random_state=seed)\n",
    "                day_df_sampled = day_df_sampled.append(carry_over_events_df)\n",
    "\n",
    "                # simulate occupancy over day and find max\n",
    "                ## count entries and exits per time period in separate df\n",
    "                entry_counts = day_df_sampled[\n",
    "                    [\"EntryDateTime{}min\".format(temp_res), \"ExitDateTime{}min\".format(temp_res)]] \\\n",
    "                    .groupby([\"EntryDateTime{}min\".format(temp_res)]).count()\n",
    "                entry_counts.reset_index(inplace=True)\n",
    "                entry_counts.columns = [\"DateTime{}min\".format(temp_res), \"EntryCounts\"]\n",
    "\n",
    "                exit_counts = day_df_sampled[\n",
    "                    [\"EntryDateTime{}min\".format(temp_res), \"ExitDateTime{}min\".format(temp_res)]] \\\n",
    "                    .groupby([\"ExitDateTime{}min\".format(temp_res)]).count()\n",
    "                exit_counts.reset_index(inplace=True)\n",
    "                exit_counts.columns = [\"DateTime{}min\".format(temp_res), \"ExitCounts\"]\n",
    "\n",
    "                ## compute target index\n",
    "                target_index = pd.DataFrame()\n",
    "                target_index[\"DateTime{}min\".format(temp_res)] = pd.date_range(\n",
    "                    start=day_df_sampled[\"EntryDateTime{}min\".format(temp_res)].min(),\n",
    "                    end=day_df_sampled[\"EntryDateTime{}min\".format(temp_res)].max(),\n",
    "                    freq=\"{}S\".format(temp_res * 60))\n",
    "                ## merge entry and exit counts and compute total occupancy per interval\n",
    "                occupancy = target_index.merge(entry_counts, on=\"DateTime{}min\".format(temp_res), how=\"left\")\n",
    "                occupancy = occupancy.merge(exit_counts, on=\"DateTime{}min\".format(temp_res), how=\"left\")\n",
    "                occupancy.fillna(0, inplace=True)\n",
    "                occupancy[\"NetOccupancyChange\"] = occupancy[\"EntryCounts\"] - occupancy[\"ExitCounts\"]\n",
    "                occupancy[\"TotalOccupancy\"] = occupancy[\"NetOccupancyChange\"].cumsum()  # gets cumulative sum of occupancy change!\n",
    "\n",
    "                max_daily_occ = max(occupancy[\"TotalOccupancy\"])\n",
    "                if verbose:\n",
    "                    print(max_daily_occ)\n",
    "                # update event count if not max_occupancy not within margin, else break\n",
    "                if max_daily_occ > round(max_occupancy + (margin * max_occupancy)):\n",
    "                    if event_count > 0: #ensure we do not get negative event count!\n",
    "                        event_count += (-1)  # reduce event counts if above max_occupancy + margin\n",
    "                    else:\n",
    "                        print(\"Warning! No samples taken for this day!\")\n",
    "                        break\n",
    "                    if verbose:\n",
    "                        print(\"occupancy too large\")\n",
    "                elif max_daily_occ < round(max_occupancy - (margin * max_occupancy)):\n",
    "                    event_count += 1  # increase event counts if below max_occupancy\n",
    "                    if verbose:\n",
    "                        print(\"occupancy too small\")\n",
    "                elif np.absolute(max_daily_occ - max_occupancy) <= round(margin * max_occupancy):\n",
    "                    print(\"Facility {}; Day {}: occupancy within margin at {} parking events\".format(facility_name, day,\n",
    "                                                                                                     event_count))\n",
    "                    break  # break loop if within margin\n",
    "\n",
    "\n",
    "            # append to out_df\n",
    "            out_df = out_df.append(day_df_sampled)\n",
    "            carry_over_events_df = out_df[out_df[\"ExitDate\"]>day]\n",
    "\n",
    "        # append facility df to final df\n",
    "        final_df = final_df.append(out_df)\n",
    "\n",
    "    return final_df"
   ]
  },
  {
   "cell_type": "code",
   "execution_count": 128,
   "metadata": {},
   "outputs": [
    {
     "data": {
      "text/plain": [
       "Index(['Unnamed: 0', 'vehicle_id', 'arrival_time', 'departure_time',\n",
       "       'HoursStay', 'MinutesStay', 'RevenueAmount', 'facility', 'Year',\n",
       "       'EntryDate', 'DayType', 'ExitDate', 'EntryHour', 'ExitHour',\n",
       "       'EntryDayOfWeek', 'EntryWeekday_yn', 'EntryHoliday_yn',\n",
       "       'userInputs_kWhPerkm', 'userInputs_kWhRequested',\n",
       "       'userInputs_kmRequested', 'MaxFeasible_kwhRequested',\n",
       "       'final_kWhRequested', 'ClusterNum', 'user_type', 'FacilityType',\n",
       "       'ev_yn', 'request_charge_yn', 'home_charging_yn', 'BatterySize',\n",
       "       'final_kWhRequested_Coll_Filter', 'daily_travel_km',\n",
       "       'final_kWhRequested_travel_demand', 'final_kWhRequested_updated',\n",
       "       'StayDuration', 'StayDurationMinutes', 'EntryDateTime5min',\n",
       "       'ExitDateTime5min'],\n",
       "      dtype='object')"
      ]
     },
     "execution_count": 128,
     "metadata": {},
     "output_type": "execute_result"
    }
   ],
   "source": [
    "requests.columns"
   ]
  },
  {
   "cell_type": "code",
   "execution_count": 283,
   "metadata": {},
   "outputs": [],
   "source": [
    "#out = sample_daily_requests_up_to_capacity(df=requests, max_occupancy=100, temp_res=5, margin=0.005,replace=False, seed=42,verbose=True)"
   ]
  },
  {
   "cell_type": "code",
   "execution_count": null,
   "metadata": {},
   "outputs": [],
   "source": []
  },
  {
   "cell_type": "code",
   "execution_count": null,
   "metadata": {},
   "outputs": [],
   "source": []
  }
 ],
 "metadata": {
  "kernelspec": {
   "display_name": "Python 3 (ipykernel)",
   "language": "python",
   "name": "python3"
  },
  "language_info": {
   "codemirror_mode": {
    "name": "ipython",
    "version": 3
   },
   "file_extension": ".py",
   "mimetype": "text/x-python",
   "name": "python",
   "nbconvert_exporter": "python",
   "pygments_lexer": "ipython3",
   "version": "3.7.1"
  }
 },
 "nbformat": 4,
 "nbformat_minor": 4
}
